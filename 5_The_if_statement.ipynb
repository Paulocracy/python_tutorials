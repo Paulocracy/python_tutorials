{
 "cells": [
  {
   "cell_type": "markdown",
   "metadata": {},
   "source": [
    "# The \"if\" Statement"
   ]
  },
  {
   "cell_type": "markdown",
   "metadata": {},
   "source": [
    "## Simple \"if\""
   ]
  },
  {
   "cell_type": "markdown",
   "metadata": {},
   "source": [
    "With \"if\" statements, you can control if code inside the \"if\" statement is executed or not:"
   ]
  },
  {
   "cell_type": "code",
   "execution_count": 12,
   "metadata": {},
   "outputs": [
    {
     "name": "stdin",
     "output_type": "stream",
     "text": [
      "Enter password: ih8rock\n"
     ]
    },
    {
     "name": "stdout",
     "output_type": "stream",
     "text": [
      "===ACCESS GRANTED===\n"
     ]
    }
   ],
   "source": [
    "# Syntax:\n",
    "# if logical_condition:\n",
    "#     # Only enters here if logical_condition == True\n",
    "#     code\n",
    "\n",
    "# Let's see it in an example :D\n",
    "password = input(\"Enter password:\")\n",
    "\n",
    "# if the password is right, grant access :D\n",
    "if password == \"ih8rock\":\n",
    "    # This is only printed if the password is correct\n",
    "    print(\"===ACCESS GRANTED===\")"
   ]
  },
  {
   "cell_type": "markdown",
   "metadata": {},
   "source": [
    "## \"if\"...\"else\"... branching"
   ]
  },
  {
   "cell_type": "markdown",
   "metadata": {},
   "source": [
    "Using an \"else\" block after an \"if\" block, one can execute code if the logical condition is not true; The executed code is then the one of the \"else\" block:"
   ]
  },
  {
   "cell_type": "code",
   "execution_count": 10,
   "metadata": {},
   "outputs": [
    {
     "name": "stdin",
     "output_type": "stream",
     "text": [
      "Enter password: ih8rock\n"
     ]
    },
    {
     "name": "stdout",
     "output_type": "stream",
     "text": [
      "===ACCESS GRANTED===\n"
     ]
    }
   ],
   "source": [
    "# Syntax:\n",
    "# if logical_condition:\n",
    "#     # Only enters here if logical_condition == True\n",
    "#     code\n",
    "# else:\n",
    "#     # Only enters here if logical_condition == False\n",
    "#     code\n",
    "# Let's see it in an example :D\n",
    "password = input(\"Enter password:\")\n",
    "\n",
    "# if the password is right, grant access :D\n",
    "if password == \"ih8rock\":\n",
    "    # This is only printed if the password is correct\n",
    "    print(\"===ACCESS GRANTED===\")\n",
    "else:\n",
    "    # This is only printed if the passord is not correct\n",
    "    print(\"===ACCESS DENIED D:===\")"
   ]
  },
  {
   "cell_type": "markdown",
   "metadata": {},
   "source": [
    "## \"if\"...\"elif\"...\"else\"... branching"
   ]
  },
  {
   "cell_type": "markdown",
   "metadata": {},
   "source": [
    "Using \"elif\" (literally \"else if\"), one can start a block which is only executed if any of the block conditions before are not True, and if the given condition is True:"
   ]
  },
  {
   "cell_type": "code",
   "execution_count": 20,
   "metadata": {},
   "outputs": [
    {
     "name": "stdin",
     "output_type": "stream",
     "text": [
      "Enter pizza type: calzone\n"
     ]
    },
    {
     "name": "stdout",
     "output_type": "stream",
     "text": [
      "Excellent choice :D Please pay 20€\n"
     ]
    }
   ],
   "source": [
    "# Syntax:\n",
    "# if logical_condition:\n",
    "#     # Only enters here if logical_condition == True\n",
    "#     code\n",
    "# elif logival_condition_2:\n",
    "#     # Only enters here if logival_condition_2 == True\n",
    "#     code\n",
    "# else:\n",
    "#     # Only enters here if logical_condition == False\n",
    "#     code\n",
    "# Let's see it in an example :D\n",
    "pizza_type = input(\"Enter pizza type:\")\n",
    "\n",
    "if pizza_type == \"margerita\":\n",
    "    # This is only printed if the customer wants\n",
    "    # a salami pizza.\n",
    "    print(\"Great choice :D Please pay 15€\")\n",
    "elif pizza_type == \"hawaii\":\n",
    "    # This is only printed if the customer wants\n",
    "    # a calzone.\n",
    "    print(\"Disgusting choice D: Please pay 17€\")\n",
    "elif pizza_type == \"calzone\":\n",
    "    # This is only printed if the customer wants\n",
    "    # a calzone.\n",
    "    print(\"Excellent choice :D Please pay 20€\")\n",
    "else:\n",
    "    # This is only printed if the pizza type is incorrect\n",
    "    print(\"You entered an invalid pizza type :-(\")"
   ]
  },
  {
   "cell_type": "markdown",
   "metadata": {},
   "source": [
    "## More on Intendation"
   ]
  },
  {
   "cell_type": "markdown",
   "metadata": {},
   "source": [
    "This is Python's most distinguishing factor:\n",
    "\n",
    "The intendation after the \":\" for if, else and elif blocks is *essential* in Python. You *must* intend such blocks, in other words, spaces are part of the program :O"
   ]
  },
  {
   "cell_type": "code",
   "execution_count": 21,
   "metadata": {},
   "outputs": [
    {
     "ename": "IndentationError",
     "evalue": "expected an indented block (<ipython-input-21-f27fab6b5f20>, line 7)",
     "output_type": "error",
     "traceback": [
      "\u001b[0;36m  File \u001b[0;32m\"<ipython-input-21-f27fab6b5f20>\"\u001b[0;36m, line \u001b[0;32m7\u001b[0m\n\u001b[0;31m    print(\"===ACCESS GRANTED===\")\u001b[0m\n\u001b[0m        ^\u001b[0m\n\u001b[0;31mIndentationError\u001b[0m\u001b[0;31m:\u001b[0m expected an indented block\n"
     ]
    }
   ],
   "source": [
    "# so e.g., the following code does not work\n",
    "# because there is no intendation for the \"if\" block :O\n",
    "password = input(\"Enter password:\")\n",
    "\n",
    "# if the password is right, grant access :D\n",
    "if password == \"ih8rock\":\n",
    "# This is only printed if the password is correct\n",
    "print(\"===ACCESS GRANTED===\")"
   ]
  },
  {
   "cell_type": "code",
   "execution_count": 26,
   "metadata": {},
   "outputs": [
    {
     "name": "stdin",
     "output_type": "stream",
     "text": [
      "Enter password: ih8rock\n"
     ]
    },
    {
     "name": "stdout",
     "output_type": "stream",
     "text": [
      "===ACCESS GRANTED===\n"
     ]
    }
   ],
   "source": [
    "# The following code works, but not logically\n",
    "# correct as access is always granted\n",
    "password = input(\"Enter password:\")\n",
    "\n",
    "# if the password is right, grant access :D\n",
    "if password == \"ih8rock\":\n",
    "    # ===ENTERING IF BLOCK===\n",
    "    # This is only printed if the password is correct\n",
    "    pass # This command means \"do nothing\" xD\n",
    "# ===LEAVING IF BLOCK===\n",
    "\n",
    "# Access is always granted as we are not in the if\n",
    "# block anymore, i.e., there is no check for the\n",
    "# password\n",
    "print(\"===ACCESS GRANTED===\")"
   ]
  }
 ],
 "metadata": {
  "kernelspec": {
   "display_name": "Python 3",
   "language": "python",
   "name": "python3"
  },
  "language_info": {
   "codemirror_mode": {
    "name": "ipython",
    "version": 3
   },
   "file_extension": ".py",
   "mimetype": "text/x-python",
   "name": "python",
   "nbconvert_exporter": "python",
   "pygments_lexer": "ipython3",
   "version": "3.7.1"
  }
 },
 "nbformat": 4,
 "nbformat_minor": 2
}
