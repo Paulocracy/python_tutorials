{
 "cells": [
  {
   "cell_type": "markdown",
   "metadata": {},
   "source": [
    "# Loops in Python :D"
   ]
  },
  {
   "cell_type": "markdown",
   "metadata": {},
   "source": [
    "## The \"while\" loop"
   ]
  },
  {
   "cell_type": "markdown",
   "metadata": {},
   "source": [
    "The \"while\" loop runs as long as the given logic condition is true (i.e., *while* the logic condition is true), unless it is forceably stopped by the program. "
   ]
  },
  {
   "cell_type": "code",
   "execution_count": 12,
   "metadata": {},
   "outputs": [
    {
     "name": "stdout",
     "output_type": "stream",
     "text": [
      "1\n",
      "2\n",
      "3\n",
      "4\n",
      "5\n"
     ]
    }
   ],
   "source": [
    "# Syntax:\n",
    "# while LOGIC_CONDITION:\n",
    "#     things_that_are_done_while_this_condition_is_true\n",
    "# In this example, we print a while is is between 1 and 5:\n",
    "a = 1\n",
    "while a <= 5:\n",
    "    print(a)\n",
    "    a += 1"
   ]
  },
  {
   "cell_type": "code",
   "execution_count": 10,
   "metadata": {},
   "outputs": [
    {
     "name": "stdout",
     "output_type": "stream",
     "text": [
      "1\n",
      "2\n"
     ]
    }
   ],
   "source": [
    "# The while loop can be forceably stopped using the \"break\" statement\n",
    "# In this example, we stop the while loop if a is equal to three:\n",
    "a = 1\n",
    "while a <= 5:\n",
    "    print(a)\n",
    "    a += 1\n",
    "    \n",
    "    if a == 3:\n",
    "        break # If we break...\n",
    "# ...we land here"
   ]
  },
  {
   "cell_type": "code",
   "execution_count": 14,
   "metadata": {},
   "outputs": [
    {
     "name": "stdout",
     "output_type": "stream",
     "text": [
      "1\n",
      "2\n",
      "4\n",
      "5\n"
     ]
    }
   ],
   "source": [
    "# A jump to the beginning of the while statement's line can be forced using the \"continue\" statement\n",
    "# In this example, we skip the printing of the number 3 using continue:\n",
    "a = 1\n",
    "while a <= 5: # ...we land here\n",
    "    if a == 3:\n",
    "        a += 1\n",
    "        continue # If we continue...\n",
    "    print(a)\n",
    "    a += 1"
   ]
  },
  {
   "cell_type": "markdown",
   "metadata": {},
   "source": [
    "## The \"for..in...\" loop"
   ]
  },
  {
   "cell_type": "markdown",
   "metadata": {},
   "source": [
    "The for loop loops through each element of a compound variable such as a list:"
   ]
  },
  {
   "cell_type": "code",
   "execution_count": 29,
   "metadata": {},
   "outputs": [
    {
     "name": "stdout",
     "output_type": "stream",
     "text": [
      "1\n",
      "3\n",
      "A\n"
     ]
    }
   ],
   "source": [
    "# Syntax:\n",
    "# for element in variable:\n",
    "#    code_in_which_something_is_done_with_the_variable\n",
    "list_variable = [1, 3, \"A\"]\n",
    "for element in list_variable:  # \"element\" can be of any name\n",
    "    print(element)"
   ]
  },
  {
   "cell_type": "code",
   "execution_count": 28,
   "metadata": {},
   "outputs": [
    {
     "name": "stdout",
     "output_type": "stream",
     "text": [
      "Loop with break:\n",
      "1\n",
      "3\n",
      "Loop with continue:\n",
      "3\n",
      "A\n"
     ]
    }
   ],
   "source": [
    "# Break and continue also work with for:\n",
    "list_variable = [1, 3, \"A\"]\n",
    "\n",
    "# Let's break after the 3 in the list_variable\n",
    "print(\"Loop with break:\")\n",
    "for element in list_variable:\n",
    "    print(element)\n",
    "    if element == 3:\n",
    "        break\n",
    "\n",
    "# Let's skip the 1 in the list_variable\n",
    "print(\"Loop with continue:\")\n",
    "for x in list_variable:\n",
    "    if x == 1:\n",
    "        continue\n",
    "    print(x)"
   ]
  }
 ],
 "metadata": {
  "kernelspec": {
   "display_name": "Python 3",
   "language": "python",
   "name": "python3"
  },
  "language_info": {
   "codemirror_mode": {
    "name": "ipython",
    "version": 3
   },
   "file_extension": ".py",
   "mimetype": "text/x-python",
   "name": "python",
   "nbconvert_exporter": "python",
   "pygments_lexer": "ipython3",
   "version": "3.7.1"
  }
 },
 "nbformat": 4,
 "nbformat_minor": 2
}
