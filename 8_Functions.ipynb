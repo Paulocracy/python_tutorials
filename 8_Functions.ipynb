{
 "cells": [
  {
   "cell_type": "markdown",
   "metadata": {},
   "source": [
    "# Functions"
   ]
  },
  {
   "cell_type": "markdown",
   "metadata": {},
   "source": [
    "## Definition"
   ]
  },
  {
   "cell_type": "markdown",
   "metadata": {},
   "source": [
    "While data type variables let us store... data, functions let us store actual Python code that can be reused :D<br>\n",
    "In other words: Functions in computer science are similar to mathematical functions. Take e.g. the function f(x)=x²+1. It is a \"variable\" named which stores the \"code\" x²+1. After f(x) is defined, we can reference to x²+1 as f(x) in other functions."
   ]
  },
  {
   "cell_type": "markdown",
   "metadata": {},
   "source": [
    "## Simple functions without arguments"
   ]
  },
  {
   "cell_type": "markdown",
   "metadata": {},
   "source": [
    "Let us define a very simple function which simply prints \"A\". We'll call this function \"func\":"
   ]
  },
  {
   "cell_type": "code",
   "execution_count": 1,
   "metadata": {},
   "outputs": [],
   "source": [
    "# Syntax of function definition:\n",
    "# def function_name():  # The two parentheses are neccessary\n",
    "#     code\n",
    "def func():\n",
    "    print(\"A\")"
   ]
  },
  {
   "cell_type": "markdown",
   "metadata": {},
   "source": [
    "We can now use this function, i.e. we can write func() instead of print(\"A\"):"
   ]
  },
  {
   "cell_type": "code",
   "execution_count": 9,
   "metadata": {},
   "outputs": [
    {
     "name": "stdout",
     "output_type": "stream",
     "text": [
      "A\n",
      "A\n",
      "A\n"
     ]
    }
   ],
   "source": [
    "def func():\n",
    "    print(\"A\")\n",
    "\n",
    "func()\n",
    "func()\n",
    "func()"
   ]
  },
  {
   "cell_type": "markdown",
   "metadata": {},
   "source": [
    "Functions only execute their code if \"()\" are used after their name, otherwise, they return the function itself:"
   ]
  },
  {
   "cell_type": "code",
   "execution_count": 8,
   "metadata": {},
   "outputs": [
    {
     "data": {
      "text/plain": [
       "<function __main__.func()>"
      ]
     },
     "execution_count": 8,
     "metadata": {},
     "output_type": "execute_result"
    }
   ],
   "source": [
    "# This is similar to \"@function_name\" in MATLAB\n",
    "func"
   ]
  },
  {
   "cell_type": "markdown",
   "metadata": {},
   "source": [
    "In other words, functions are also variables that can be used like them:"
   ]
  },
  {
   "cell_type": "code",
   "execution_count": 13,
   "metadata": {},
   "outputs": [
    {
     "name": "stdout",
     "output_type": "stream",
     "text": [
      "A\n",
      "B\n",
      "C\n"
     ]
    }
   ],
   "source": [
    "# Here, we copy the function to another one\n",
    "# with the name \"func2\"\n",
    "def func():\n",
    "    print(\"A\")\n",
    "    print(\"B\")\n",
    "    print(\"C\")\n",
    "\n",
    "func2 = func\n",
    "func2()"
   ]
  },
  {
   "cell_type": "markdown",
   "metadata": {},
   "source": [
    "Functions can also *return* a value. Similarily to the *return* of f(x)=x² for x=2 is 4, a function can return a value that is the result of the code which is executed in it:"
   ]
  },
  {
   "cell_type": "code",
   "execution_count": 14,
   "metadata": {},
   "outputs": [
    {
     "name": "stdout",
     "output_type": "stream",
     "text": [
      "We are going to return Pi :D\n"
     ]
    },
    {
     "data": {
      "text/plain": [
       "3.14"
      ]
     },
     "execution_count": 14,
     "metadata": {},
     "output_type": "execute_result"
    }
   ],
   "source": [
    "# Let's define a simple function which returns the value 3.14 :D\n",
    "def pi():\n",
    "    print(\"We are going to return Pi :D\")\n",
    "    return 3.14\n",
    "pi()"
   ]
  },
  {
   "cell_type": "markdown",
   "metadata": {},
   "source": [
    "## Scoping of variables"
   ]
  },
  {
   "cell_type": "markdown",
   "metadata": {},
   "source": [
    "If we define a variable inside a function..."
   ]
  },
  {
   "cell_type": "code",
   "execution_count": 15,
   "metadata": {},
   "outputs": [],
   "source": [
    "def func():\n",
    "    x = 1"
   ]
  },
  {
   "cell_type": "markdown",
   "metadata": {},
   "source": [
    "...this variable only exists inside the scope of the function, i.e. only in the code lines of the function iteself:"
   ]
  },
  {
   "cell_type": "code",
   "execution_count": 30,
   "metadata": {},
   "outputs": [
    {
     "name": "stdout",
     "output_type": "stream",
     "text": [
      "1\n"
     ]
    }
   ],
   "source": [
    "def func():\n",
    "    # START OF x's EXISTENCE\n",
    "    x = 1\n",
    "    x += 1\n",
    "    # END of x's EXISTENCE\n",
    "print(x)"
   ]
  },
  {
   "cell_type": "markdown",
   "metadata": {},
   "source": [
    "Similarily if we define a variable outside a function..."
   ]
  },
  {
   "cell_type": "code",
   "execution_count": 18,
   "metadata": {},
   "outputs": [],
   "source": [
    "x = 1"
   ]
  },
  {
   "cell_type": "markdown",
   "metadata": {},
   "source": [
    "...this variable (usually) does not exist inside the function:"
   ]
  },
  {
   "cell_type": "code",
   "execution_count": 29,
   "metadata": {},
   "outputs": [
    {
     "ename": "UnboundLocalError",
     "evalue": "local variable 'x' referenced before assignment",
     "output_type": "error",
     "traceback": [
      "\u001b[0;31m---------------------------------------------------------------------------\u001b[0m",
      "\u001b[0;31mUnboundLocalError\u001b[0m                         Traceback (most recent call last)",
      "\u001b[0;32m<ipython-input-29-e8fedd46f369>\u001b[0m in \u001b[0;36m<module>\u001b[0;34m\u001b[0m\n\u001b[1;32m      5\u001b[0m     \u001b[0mprint\u001b[0m\u001b[0;34m(\u001b[0m\u001b[0mx\u001b[0m\u001b[0;34m)\u001b[0m\u001b[0;34m\u001b[0m\u001b[0;34m\u001b[0m\u001b[0m\n\u001b[1;32m      6\u001b[0m \u001b[0;31m# ...to here\u001b[0m\u001b[0;34m\u001b[0m\u001b[0;34m\u001b[0m\u001b[0;34m\u001b[0m\u001b[0m\n\u001b[0;32m----> 7\u001b[0;31m \u001b[0mfunc\u001b[0m\u001b[0;34m(\u001b[0m\u001b[0;34m)\u001b[0m\u001b[0;34m\u001b[0m\u001b[0;34m\u001b[0m\u001b[0m\n\u001b[0m",
      "\u001b[0;32m<ipython-input-29-e8fedd46f369>\u001b[0m in \u001b[0;36mfunc\u001b[0;34m()\u001b[0m\n\u001b[1;32m      2\u001b[0m \u001b[0;31m# x does not exists from here...\u001b[0m\u001b[0;34m\u001b[0m\u001b[0;34m\u001b[0m\u001b[0;34m\u001b[0m\u001b[0m\n\u001b[1;32m      3\u001b[0m \u001b[0;32mdef\u001b[0m \u001b[0mfunc\u001b[0m\u001b[0;34m(\u001b[0m\u001b[0;34m)\u001b[0m\u001b[0;34m:\u001b[0m\u001b[0;34m\u001b[0m\u001b[0;34m\u001b[0m\u001b[0m\n\u001b[0;32m----> 4\u001b[0;31m     \u001b[0mx\u001b[0m \u001b[0;34m+=\u001b[0m \u001b[0;36m1\u001b[0m\u001b[0;34m\u001b[0m\u001b[0;34m\u001b[0m\u001b[0m\n\u001b[0m\u001b[1;32m      5\u001b[0m     \u001b[0mprint\u001b[0m\u001b[0;34m(\u001b[0m\u001b[0mx\u001b[0m\u001b[0;34m)\u001b[0m\u001b[0;34m\u001b[0m\u001b[0;34m\u001b[0m\u001b[0m\n\u001b[1;32m      6\u001b[0m \u001b[0;31m# ...to here\u001b[0m\u001b[0;34m\u001b[0m\u001b[0;34m\u001b[0m\u001b[0;34m\u001b[0m\u001b[0m\n",
      "\u001b[0;31mUnboundLocalError\u001b[0m: local variable 'x' referenced before assignment"
     ]
    }
   ],
   "source": [
    "x = 1\n",
    "# x does not exists from here...\n",
    "def func():\n",
    "    x += 1\n",
    "    print(x)\n",
    "# ...to here\n",
    "func()"
   ]
  },
  {
   "cell_type": "markdown",
   "metadata": {},
   "source": [
    "## Global Variables (most computer scientists hate this trick)"
   ]
  },
  {
   "cell_type": "markdown",
   "metadata": {},
   "source": [
    "One can still access variables from *outside* a function using the \"global\" statement followed by the name of the variable:"
   ]
  },
  {
   "cell_type": "code",
   "execution_count": 32,
   "metadata": {},
   "outputs": [
    {
     "name": "stdout",
     "output_type": "stream",
     "text": [
      "2\n"
     ]
    }
   ],
   "source": [
    "x = 1\n",
    "def func():\n",
    "    global x  # Get access to x from outside the function :O\n",
    "    x += 1\n",
    "    print(x)\n",
    "func()"
   ]
  },
  {
   "cell_type": "markdown",
   "metadata": {},
   "source": [
    "Attention: Only use global variables when they are absolutely neccessary, otherwise they can cause a huge chaos D:"
   ]
  },
  {
   "cell_type": "markdown",
   "metadata": {},
   "source": [
    "## Handling of single arguments"
   ]
  },
  {
   "cell_type": "markdown",
   "metadata": {},
   "source": [
    "Just like mathematical functions, Python functions can take arguments, too. E.g. in the function f(x)=2x, \"x\" is the argument.<br>\n",
    "Let us see how to use single-argument functions in Python:"
   ]
  },
  {
   "cell_type": "code",
   "execution_count": 10,
   "metadata": {},
   "outputs": [],
   "source": [
    "# Syntax:\n",
    "# def name_of_function(name_of_argument):\n",
    "#     code_where_the_argument_can_be_used\n",
    "#     (optional return value)"
   ]
  },
  {
   "cell_type": "code",
   "execution_count": 11,
   "metadata": {},
   "outputs": [
    {
     "name": "stdout",
     "output_type": "stream",
     "text": [
      "4\n",
      "AA\n"
     ]
    }
   ],
   "source": [
    "# Example 1 without return:\n",
    "# Let us define a function with which\n",
    "# we can print the doubled given value\n",
    "def print_doubled_value(value):\n",
    "    print(value*2)\n",
    "\n",
    "# Now, we can use this function with\n",
    "# any data type which supports \"*\"\n",
    "print_doubled_value(2)\n",
    "print_doubled_value(\"A\")"
   ]
  },
  {
   "cell_type": "code",
   "execution_count": 41,
   "metadata": {},
   "outputs": [
    {
     "data": {
      "text/plain": [
       "9"
      ]
     },
     "execution_count": 41,
     "metadata": {},
     "output_type": "execute_result"
    }
   ],
   "source": [
    "# Example 2 with return:\n",
    "# Let us define the mathematical function f(x) = x²\n",
    "# or in Python's language, the function f with the argument\n",
    "# x which returns x**2\n",
    "def f(x):\n",
    "    return x**2\n",
    "\n",
    "# Now, we can use this function with data of the type int or float\n",
    "number = 3\n",
    "f(number)"
   ]
  },
  {
   "cell_type": "markdown",
   "metadata": {},
   "source": [
    "## Handling of multiple arguments"
   ]
  },
  {
   "cell_type": "markdown",
   "metadata": {},
   "source": [
    "Again just like mathematical functions, you can also create Python functions which take multiple arguments:"
   ]
  },
  {
   "cell_type": "code",
   "execution_count": 33,
   "metadata": {},
   "outputs": [],
   "source": [
    "# Syntax:\n",
    "# def name_of_function(name_of_argument_1, name_of_argument_2, ...):\n",
    "#     code_where_the_argument_can_be_used\n",
    "#     (optional return value)"
   ]
  },
  {
   "cell_type": "code",
   "execution_count": 39,
   "metadata": {},
   "outputs": [
    {
     "name": "stdout",
     "output_type": "stream",
     "text": [
      "24\n"
     ]
    }
   ],
   "source": [
    "# Let's define a function which returns\n",
    "# the volume of a cuboid\n",
    "def volume(height, width, length):\n",
    "    return height * width * length\n",
    "\n",
    "volume(2, 3, 4)"
   ]
  },
  {
   "cell_type": "markdown",
   "metadata": {},
   "source": [
    "In order to not get confused by many arguments for a function, you can also name the function's arguments :D"
   ]
  },
  {
   "cell_type": "code",
   "execution_count": null,
   "metadata": {},
   "outputs": [],
   "source": [
    "def volume(height, width, length):\n",
    "    return height * width * length\n",
    "\n",
    "volume(height=2, width=3, length=4)"
   ]
  },
  {
   "cell_type": "markdown",
   "metadata": {},
   "source": [
    "You can also mix up naming and not naming arguments, unnamed arguments have to be at the beginning and are determined by the order of arguments in the function's definition, followed by named ones:"
   ]
  },
  {
   "cell_type": "code",
   "execution_count": 40,
   "metadata": {},
   "outputs": [
    {
     "data": {
      "text/plain": [
       "24"
      ]
     },
     "execution_count": 40,
     "metadata": {},
     "output_type": "execute_result"
    }
   ],
   "source": [
    "def volume(height, width, length):\n",
    "    return height * width * length\n",
    "\n",
    "volume(2, 3, length=4)"
   ]
  },
  {
   "cell_type": "markdown",
   "metadata": {},
   "source": [
    "## Handling of multiple return values"
   ]
  },
  {
   "cell_type": "markdown",
   "metadata": {},
   "source": [
    "You can also return multiple values with a Python function:"
   ]
  },
  {
   "cell_type": "code",
   "execution_count": 44,
   "metadata": {},
   "outputs": [],
   "source": [
    "# Syntax:\n",
    "# def name_of_function(name_of_argument_1, name_of_argument_2, ...):\n",
    "#     code_where_the_argument_can_be_used\n",
    "#     return name_of_return_value_1, name_of_return_value_2, ..."
   ]
  },
  {
   "cell_type": "code",
   "execution_count": 45,
   "metadata": {},
   "outputs": [
    {
     "data": {
      "text/plain": [
       "(24, False)"
      ]
     },
     "execution_count": 45,
     "metadata": {},
     "output_type": "execute_result"
    }
   ],
   "source": [
    "def volume_and_is_height_greater_width(height, width, length):\n",
    "    volume = height * width * length\n",
    "    is_height_greater_width = height > width\n",
    "    return volume, is_height_greater_width\n",
    "\n",
    "volume_and_is_height_greater_width(2, 3, 4)"
   ]
  },
  {
   "cell_type": "markdown",
   "metadata": {},
   "source": [
    "As you can see, the normal return type with multiple return values is a tuple. Alternatively, you can also store the single return values by using multiple variables which \"catch\" the return values:"
   ]
  },
  {
   "cell_type": "code",
   "execution_count": 46,
   "metadata": {},
   "outputs": [
    {
     "name": "stdout",
     "output_type": "stream",
     "text": [
      "Volume:\n",
      "24\n",
      "is_height_greater_width:\n",
      "False\n"
     ]
    }
   ],
   "source": [
    "def volume_and_is_height_greater_width(height, width, length):\n",
    "    volume = height * width * length\n",
    "    is_height_greater_width = height > width\n",
    "    return volume, is_height_greater_width\n",
    "\n",
    "# Let us catch the single return values :D\n",
    "volume, is_height_greater_width =  volume_and_is_height_greater_width(2, 3, 4)\n",
    "\n",
    "print(\"Volume:\")\n",
    "print(volume)\n",
    "print(\"is_height_greater_width:\")\n",
    "print(is_height_greater_width)"
   ]
  },
  {
   "cell_type": "markdown",
   "metadata": {},
   "source": [
    "## Variable number of arguments"
   ]
  },
  {
   "cell_type": "markdown",
   "metadata": {},
   "source": [
    "Using \"\\*\" *before* the name of the last argument of a function, you indicate that you want to use the function with a *variable* number of variables. The variables are then given as tuple inside the function:"
   ]
  },
  {
   "cell_type": "code",
   "execution_count": 51,
   "metadata": {},
   "outputs": [
    {
     "name": "stdout",
     "output_type": "stream",
     "text": [
      "1\n",
      "6\n",
      "21\n"
     ]
    }
   ],
   "source": [
    "def sum_variables(*variables):\n",
    "    sum_ = 0\n",
    "    for variable in variables:\n",
    "        sum_ += variable\n",
    "    return sum_\n",
    "\n",
    "print(sum_variables(1))  # 1\n",
    "print(sum_variables(1,2,3))  # 1 + 2 + 3\n",
    "print(sum_variables(1,2,3,4,5,6))  # 1 + 2 + 3 + 4 + 5 + 6"
   ]
  },
  {
   "cell_type": "markdown",
   "metadata": {},
   "source": [
    "## Using functions as argument values (\"function pointers\")"
   ]
  },
  {
   "cell_type": "markdown",
   "metadata": {},
   "source": [
    "Since functions can be used like data variables, you can also send a function as an argument to another function :D"
   ]
  },
  {
   "cell_type": "code",
   "execution_count": 54,
   "metadata": {},
   "outputs": [
    {
     "name": "stdout",
     "output_type": "stream",
     "text": [
      "A\n",
      "B\n"
     ]
    }
   ],
   "source": [
    "# We define a function which takes an argument\n",
    "# that will be executed as function :D\n",
    "def do_what_the_argument_does(argument):\n",
    "    # Syntax: Just put \"()\" after the argument :-)\n",
    "    argument()\n",
    "\n",
    "def print_a():\n",
    "    print(\"A\")\n",
    "\n",
    "def print_b():\n",
    "    print(\"B\")\n",
    "\n",
    "do_what_the_argument_does(print_a)\n",
    "do_what_the_argument_does(print_b)"
   ]
  },
  {
   "cell_type": "markdown",
   "metadata": {},
   "source": [
    "## Lambda functions / Anonymous functions"
   ]
  },
  {
   "cell_type": "markdown",
   "metadata": {},
   "source": [
    "Using Python's <b>lambda</b> keyword, you can define a function in one line and without assigning a name to it:"
   ]
  },
  {
   "cell_type": "code",
   "execution_count": null,
   "metadata": {},
   "outputs": [],
   "source": [
    "# Syntax:\n",
    "# lambda argument_1, argument_2, ...: code"
   ]
  },
  {
   "cell_type": "code",
   "execution_count": 56,
   "metadata": {},
   "outputs": [
    {
     "data": {
      "text/plain": [
       "<function __main__.<lambda>(x)>"
      ]
     },
     "execution_count": 56,
     "metadata": {},
     "output_type": "execute_result"
    }
   ],
   "source": [
    "lambda x: 3*x"
   ]
  },
  {
   "cell_type": "markdown",
   "metadata": {},
   "source": [
    "You can name a lambda function by assigning it to a variable:"
   ]
  },
  {
   "cell_type": "code",
   "execution_count": 55,
   "metadata": {},
   "outputs": [
    {
     "data": {
      "text/plain": [
       "6"
      ]
     },
     "execution_count": 55,
     "metadata": {},
     "output_type": "execute_result"
    }
   ],
   "source": [
    "triple = lambda x: 3*x\n",
    "# Now, it can be used like a normal function :D\n",
    "triple(2)"
   ]
  },
  {
   "cell_type": "markdown",
   "metadata": {},
   "source": [
    "Lambda functions are very important for higher-order functions which we will see in the next chapter..."
   ]
  }
 ],
 "metadata": {
  "kernelspec": {
   "display_name": "Python 3",
   "language": "python",
   "name": "python3"
  },
  "language_info": {
   "codemirror_mode": {
    "name": "ipython",
    "version": 3
   },
   "file_extension": ".py",
   "mimetype": "text/x-python",
   "name": "python",
   "nbconvert_exporter": "python",
   "pygments_lexer": "ipython3",
   "version": "3.7.1"
  }
 },
 "nbformat": 4,
 "nbformat_minor": 2
}
