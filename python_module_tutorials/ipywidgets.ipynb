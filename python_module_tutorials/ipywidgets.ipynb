{
 "cells": [
  {
   "cell_type": "markdown",
   "metadata": {},
   "source": [
    "Note: In order to run ipywidgets in Jupyter Lab, you currently (September 2017) have to install ipywidgets 7 via \"conda install -c conda-forge ipywidgets\" (if you use Anaconda) and to install the ipywidgets extension via \"jupyter labextension install @jupyter-widgets/jupyterlab-manager\"."
   ]
  },
  {
   "cell_type": "markdown",
   "metadata": {},
   "source": [
    "<h2>ipywidgets</h2>\n",
    "Using ipywidgets, it is possible to turn a Jupyter notebook into a interactive GUI application.<br>\n",
    "A simple introduction can be found here: https://ipywidgets.readthedocs.io/en/latest/examples/Widget%20Basics.html<br>\n",
    "The list of widgets and tabs is here: https://ipywidgets.readthedocs.io/en/latest/examples/Widget%20List.html<br>\n",
    "The callback functionalities are described here: https://ipywidgets.readthedocs.io/en/latest/examples/Widget%20Events.html<br>\n",
    "The function parameter functionality is described here: https://ipywidgets.readthedocs.io/en/latest/examples/Using%20Interact.html<br>\n",
    "Asynchronous calling is described here (the threading example is the most interesting one): https://ipywidgets.readthedocs.io/en/latest/examples/Widget%20Asynchronous.html<br>"
   ]
  },
  {
   "cell_type": "markdown",
   "metadata": {},
   "source": [
    "<h3>1. Exemplary widgets</h3>"
   ]
  },
  {
   "cell_type": "code",
   "execution_count": 1,
   "metadata": {},
   "outputs": [
    {
     "data": {
      "application/vnd.jupyter.widget-view+json": {
       "model_id": "330ee148662f4aaa9e2e83b59b8617ef",
       "version_major": 2,
       "version_minor": 0
      },
      "text/plain": [
       "A Jupyter Widget"
      ]
     },
     "metadata": {},
     "output_type": "display_data"
    }
   ],
   "source": [
    "import ipywidgets as widgets\n",
    "from IPython.display import display\n",
    "\n",
    "widgets.IntSlider()"
   ]
  },
  {
   "cell_type": "code",
   "execution_count": 7,
   "metadata": {},
   "outputs": [
    {
     "data": {
      "application/vnd.jupyter.widget-view+json": {
       "model_id": "a77c90644dd245d8b0bb3419af9bdfa7",
       "version_major": 2,
       "version_minor": 0
      },
      "text/plain": [
       "A Jupyter Widget"
      ]
     },
     "metadata": {},
     "output_type": "display_data"
    }
   ],
   "source": [
    "w = widgets.FloatRangeSlider()\n",
    "display(w)"
   ]
  },
  {
   "cell_type": "code",
   "execution_count": 8,
   "metadata": {},
   "outputs": [
    {
     "data": {
      "application/vnd.jupyter.widget-view+json": {
       "model_id": "c178a8388fca414091578b6c9a603a46",
       "version_major": 2,
       "version_minor": 0
      },
      "text/plain": [
       "A Jupyter Widget"
      ]
     },
     "metadata": {},
     "output_type": "display_data"
    }
   ],
   "source": [
    "# You can only enter integer text\n",
    "widgets.BoundedIntText()"
   ]
  },
  {
   "cell_type": "markdown",
   "metadata": {},
   "source": [
    "<h3>2. Function interact examples</h3>"
   ]
  },
  {
   "cell_type": "code",
   "execution_count": 9,
   "metadata": {},
   "outputs": [
    {
     "data": {
      "application/vnd.jupyter.widget-view+json": {
       "model_id": "2eb0d353dc8e4d56b9b63df039522293",
       "version_major": 2,
       "version_minor": 0
      },
      "text/plain": [
       "A Jupyter Widget"
      ]
     },
     "metadata": {},
     "output_type": "display_data"
    },
    {
     "data": {
      "text/plain": [
       "(IntSlider(value=2, description='x', max=6, min=-2), Output())"
      ]
     },
     "execution_count": 9,
     "metadata": {},
     "output_type": "execute_result"
    }
   ],
   "source": [
    "def f(x):\n",
    "    return not x\n",
    "w = widgets.interactive(f, x=2)\n",
    "display(w)\n",
    "w.children"
   ]
  },
  {
   "cell_type": "code",
   "execution_count": 10,
   "metadata": {},
   "outputs": [
    {
     "data": {
      "application/vnd.jupyter.widget-view+json": {
       "model_id": "9796a66f142d4bbbbdfc086cd6d1be39",
       "version_major": 2,
       "version_minor": 0
      },
      "text/plain": [
       "A Jupyter Widget"
      ]
     },
     "metadata": {},
     "output_type": "display_data"
    }
   ],
   "source": [
    "widgets.interactive(f, x=True)"
   ]
  },
  {
   "cell_type": "code",
   "execution_count": 11,
   "metadata": {},
   "outputs": [
    {
     "data": {
      "application/vnd.jupyter.widget-view+json": {
       "model_id": "78fd8f3c1470432092cd1c3f8cc889ee",
       "version_major": 2,
       "version_minor": 0
      },
      "text/plain": [
       "A Jupyter Widget"
      ]
     },
     "metadata": {},
     "output_type": "display_data"
    }
   ],
   "source": [
    "widgets.interactive(f, x='Text')"
   ]
  },
  {
   "cell_type": "code",
   "execution_count": 12,
   "metadata": {},
   "outputs": [
    {
     "data": {
      "application/vnd.jupyter.widget-view+json": {
       "model_id": "01424cd93ae444919bee777cb0f50c10",
       "version_major": 2,
       "version_minor": 0
      },
      "text/plain": [
       "A Jupyter Widget"
      ]
     },
     "metadata": {},
     "output_type": "display_data"
    }
   ],
   "source": [
    "@widgets.interact(x=(0.0,20.0,0.5))\n",
    "def h(x=5.5):\n",
    "    return x*2"
   ]
  },
  {
   "cell_type": "markdown",
   "metadata": {},
   "source": [
    "<h3>3. Callback functionality example</h3>"
   ]
  },
  {
   "cell_type": "code",
   "execution_count": 13,
   "metadata": {},
   "outputs": [
    {
     "data": {
      "application/vnd.jupyter.widget-view+json": {
       "model_id": "bb5b4e855e9d41e0b113ef8bb0ce00b6",
       "version_major": 2,
       "version_minor": 0
      },
      "text/plain": [
       "A Jupyter Widget"
      ]
     },
     "metadata": {},
     "output_type": "display_data"
    },
    {
     "data": {
      "application/vnd.jupyter.widget-view+json": {
       "model_id": "1a5ee86f5d53488ebef37e649f6a608f",
       "version_major": 2,
       "version_minor": 0
      },
      "text/plain": [
       "A Jupyter Widget"
      ]
     },
     "metadata": {},
     "output_type": "display_data"
    }
   ],
   "source": [
    "counter = 0\n",
    "def on_click1(b):\n",
    "    global counter\n",
    "    counter += 1\n",
    "    b.description = \"Click no. \"+str(counter)\n",
    "\n",
    "def on_click2(b):\n",
    "    global button1\n",
    "    global counter\n",
    "    counter = 0\n",
    "    button1.description = \"Click\"\n",
    "\n",
    "button1 = widgets.Button(description=\"Click\")\n",
    "display(button1)\n",
    "\n",
    "button2 = widgets.Button(description=\"Reset\")\n",
    "display(button2)\n",
    "\n",
    "button1.on_click(on_click1)\n",
    "button2.on_click(on_click2)"
   ]
  },
  {
   "cell_type": "markdown",
   "metadata": {},
   "source": [
    "<h3>4. Asynchronous calling example</h3>"
   ]
  },
  {
   "cell_type": "code",
   "execution_count": 31,
   "metadata": {},
   "outputs": [
    {
     "data": {
      "application/vnd.jupyter.widget-view+json": {
       "model_id": "03413e13ea494c42a359b1299e738f3f",
       "version_major": 2,
       "version_minor": 0
      },
      "text/plain": [
       "A Jupyter Widget"
      ]
     },
     "metadata": {},
     "output_type": "display_data"
    },
    {
     "data": {
      "application/vnd.jupyter.widget-view+json": {
       "model_id": "d2ddc6359fec4270b2bdfa05949225d9",
       "version_major": 2,
       "version_minor": 0
      },
      "text/plain": [
       "A Jupyter Widget"
      ]
     },
     "metadata": {},
     "output_type": "display_data"
    },
    {
     "data": {
      "application/vnd.jupyter.widget-view+json": {
       "model_id": "f8a9de49a8f240f095044e37c0259fec",
       "version_major": 2,
       "version_minor": 0
      },
      "text/plain": [
       "A Jupyter Widget"
      ]
     },
     "metadata": {},
     "output_type": "display_data"
    }
   ],
   "source": [
    "import threading\n",
    "import time\n",
    "\n",
    "reset_flag = False\n",
    "running = False\n",
    "\n",
    "def work(progress):\n",
    "    global reset_flag\n",
    "    global running\n",
    "    \n",
    "    if running: # Prevent multiple execution\n",
    "        return\n",
    "    running = True\n",
    "    \n",
    "    total = 100\n",
    "    for i in range(total):\n",
    "        time.sleep(0.2)\n",
    "        progress.value = (i+1)/total\n",
    "        \n",
    "        if reset_flag:\n",
    "            progress.value = 0.0\n",
    "            reset_flag = False\n",
    "            running = False\n",
    "            return\n",
    "    running = False\n",
    "\n",
    "def reset(button):\n",
    "    global reset_flag\n",
    "    reset_flag = True\n",
    "\n",
    "\n",
    "def start(b):\n",
    "    global thread\n",
    "    thread = threading.Thread(target=work, args=(progress,))\n",
    "    thread.start()\n",
    "\n",
    "progress = widgets.FloatProgress(value=0.0, min=0.0, max=1.0)\n",
    "display(progress)\n",
    "\n",
    "start_button = widgets.Button(description=\"Start (threaded)\")\n",
    "display(start_button)\n",
    "start_button.on_click(start)\n",
    "\n",
    "reset_button = widgets.Button(description=\"Reset\")\n",
    "display(reset_button)\n",
    "reset_button.on_click(reset)"
   ]
  },
  {
   "cell_type": "markdown",
   "metadata": {},
   "source": [
    "<h3>5. Tab example</h3>"
   ]
  },
  {
   "cell_type": "code",
   "execution_count": 3,
   "metadata": {},
   "outputs": [
    {
     "data": {
      "application/vnd.jupyter.widget-view+json": {
       "model_id": "b110f5684a6c4ac59634d8c484b55de8",
       "version_major": 2,
       "version_minor": 0
      },
      "text/plain": [
       "A Jupyter Widget"
      ]
     },
     "metadata": {},
     "output_type": "display_data"
    }
   ],
   "source": [
    "\n",
    "tab_contents = ['P1', 'P2', 'P3']\n",
    "children = [widgets.Text(description=name) for name in tab_contents]\n",
    "tab = widgets.Tab()\n",
    "tab.children = children\n",
    "for i in range(len(tab.children)):\n",
    "    tab.set_title(i, str(i))\n",
    "tab"
   ]
  },
  {
   "cell_type": "markdown",
   "metadata": {},
   "source": [
    "<h3>6. File open/save dialogs with tkinter</h3>\n",
    "<p>\n",
    "Due to HTML5+JavaScript restrictions, ipywidgets currently does not offer a file opening or saving dialogue. However, the small Python GUI library tkinter provides such a method. Using the magic \"%gui tk\", you can use tkinter in Jupyter Python notebooks.\n",
    "</p>\n",
    "<p>\n",
    "A small documentation for the tkinter methods \"askopenfilename\" and \"asksavefilename\" can be found under http://infohost.nmt.edu/tcc/help/pubs/tkinter/web/tkFileDialog.html (note: This documentation uses Python 2 syntax).\n",
    "</p>\n",
    "<p>\n",
    "Usually, tkinter is bundled with all common Python distributions. If tkinter is not installed on your systems and you use pip, you can install tkinter with \"pip install tkinter\".\n",
    "</p>"
   ]
  },
  {
   "cell_type": "code",
   "execution_count": 20,
   "metadata": {},
   "outputs": [
    {
     "data": {
      "text/plain": [
       "''"
      ]
     },
     "execution_count": 20,
     "metadata": {},
     "output_type": "execute_result"
    }
   ],
   "source": [
    "%gui tk\n",
    "import tkinter.filedialog\n",
    "\n",
    "# Open tkinter window (necessary for tkinter.filedialog usage with Jupyter)\n",
    "root = tkinter.Tk()\n",
    "# Using -topmost, the window and its fle dialog will pop up above all other windows\n",
    "root.attributes(\"-topmost\", True)\n",
    "# As Jupyter starts an (in our case) unneccessary tkinter window in the background,\n",
    "# this window will be withdrawn\n",
    "root.withdraw()\n",
    "\n",
    "# file_path is '' if no file was selected\n",
    "file_path = tkinter.filedialog.askopenfilename(parent=root)\n",
    "file_path"
   ]
  },
  {
   "cell_type": "markdown",
   "metadata": {},
   "source": [
    "Combination with an ipywidgets button:"
   ]
  },
  {
   "cell_type": "code",
   "execution_count": 30,
   "metadata": {},
   "outputs": [
    {
     "data": {
      "application/vnd.jupyter.widget-view+json": {
       "model_id": "106cfad729664c0ab3a250343af74ab2",
       "version_major": 2,
       "version_minor": 0
      },
      "text/plain": [
       "A Jupyter Widget"
      ]
     },
     "metadata": {},
     "output_type": "display_data"
    }
   ],
   "source": [
    "def save_file(button):\n",
    "    root = tkinter.Tk()\n",
    "    root.attributes(\"-topmost\", True)\n",
    "    root.withdraw()\n",
    "    file_path = tkinter.filedialog.asksaveasfilename(parent=root)\n",
    "\n",
    "file_button = widgets.Button(description=\"Save to file...\")\n",
    "display(file_button)\n",
    "file_button.on_click(save_file)"
   ]
  },
  {
   "cell_type": "markdown",
   "metadata": {},
   "source": [
    "<h3>7. Message boxes with tkinter</h3>\n",
    "Similar to file dialogs, you can also use message boxes in tkinter, as described in\n",
    "http://effbot.org/tkinterbook/tkinter-standard-dialogs.htm."
   ]
  },
  {
   "cell_type": "code",
   "execution_count": 6,
   "metadata": {},
   "outputs": [],
   "source": [
    "import tkinter.messagebox"
   ]
  },
  {
   "cell_type": "code",
   "execution_count": 25,
   "metadata": {},
   "outputs": [
    {
     "data": {
      "text/plain": [
       "'ok'"
      ]
     },
     "execution_count": 25,
     "metadata": {},
     "output_type": "execute_result"
    }
   ],
   "source": [
    "root = tkinter.Tk()\n",
    "root.attributes(\"-topmost\", True)\n",
    "root.withdraw()\n",
    "\n",
    "tkinter.messagebox.showinfo(\"Title\", \"Window text\", parent=root)"
   ]
  },
  {
   "cell_type": "code",
   "execution_count": 29,
   "metadata": {},
   "outputs": [
    {
     "data": {
      "text/plain": [
       "'no'"
      ]
     },
     "execution_count": 29,
     "metadata": {},
     "output_type": "execute_result"
    }
   ],
   "source": [
    "# Ask yes/no\n",
    "# Other questions can be chosen, read the tkinter.messagebox description for more options\n",
    "root = tkinter.Tk()\n",
    "root.attributes(\"-topmost\", True)\n",
    "root.withdraw()\n",
    "\n",
    "tkinter.messagebox.askquestion(\"Title\", \"Yes or no?\", parent=root) # Returns 'yes' or 'no'"
   ]
  },
  {
   "cell_type": "markdown",
   "metadata": {},
   "source": [
    "PSB 2017"
   ]
  }
 ],
 "metadata": {
  "kernelspec": {
   "display_name": "Python 3",
   "language": "python",
   "name": "python3"
  },
  "language_info": {
   "codemirror_mode": {
    "name": "ipython",
    "version": 3
   },
   "file_extension": ".py",
   "mimetype": "text/x-python",
   "name": "python",
   "nbconvert_exporter": "python",
   "pygments_lexer": "ipython3",
   "version": "3.6.2"
  }
 },
 "nbformat": 4,
 "nbformat_minor": 2
}
