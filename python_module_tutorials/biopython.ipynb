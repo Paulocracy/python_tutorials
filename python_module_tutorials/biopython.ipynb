{
 "cells": [
  {
   "cell_type": "markdown",
   "metadata": {},
   "source": [
    "<h1>biopython Introduction</h1>\n",
    "<p>\n",
    "For the whole documentation, see http://biopython.org/wiki/Biopython, for the long tutorial see http://biopython.org/DIST/docs/tutorial/Tutorial.html, for the cookbook see http://biopython.org/wiki/Category%3ACookbook.\n",
    "</p>\n",
    "<p>\n",
    "biopython is a universal bioinformatic Python package, coordinated by the Open Bioinformatics Foundation (https://www.open-bio.org/wiki/Main_Page, also coordinates - amongst other projects - BioPerl http://bioperl.org/ and BioJava http://biojava.org/). If you use the Anaconda python distribution, the easiest way to install biopython is by using the Anaconda Navigator. If you use pip, you can install biopython with the command \"pip install biopython\".\n",
    "</p>\n",
    "<p>\n",
    "Once you have installed biopython, you can import it to a Python script like this (not that you may have to import submodules of biopython to access all of its function):\n",
    "</p>"
   ]
  },
  {
   "cell_type": "code",
   "execution_count": 1,
   "metadata": {},
   "outputs": [],
   "source": [
    "import Bio"
   ]
  },
  {
   "cell_type": "markdown",
   "metadata": {},
   "source": [
    "<h3>1. Storing DNA, RNA and Amino Acid Sequences</h3>"
   ]
  },
  {
   "cell_type": "code",
   "execution_count": 14,
   "metadata": {},
   "outputs": [],
   "source": [
    "from Bio.Seq import Seq\n",
    "from Bio.Alphabet import IUPAC"
   ]
  },
  {
   "cell_type": "code",
   "execution_count": 15,
   "metadata": {},
   "outputs": [
    {
     "name": "stdout",
     "output_type": "stream",
     "text": [
      "ACGT\n",
      "IUPACUnambiguousDNA()\n",
      "1\n",
      "4\n"
     ]
    }
   ],
   "source": [
    "# An unambiguous DNA sequence\n",
    "unambiguous = Seq(\"ACGT\", IUPAC.unambiguous_dna)\n",
    "print(unambiguous)\n",
    "print(unambiguous.alphabet)\n",
    "print(unambiguous.count(\"AC\")) # Returns only non-overlapping occurences\n",
    "print(len(unambiguous))"
   ]
  },
  {
   "cell_type": "code",
   "execution_count": 22,
   "metadata": {},
   "outputs": [
    {
     "data": {
      "text/plain": [
       "Seq('ACGT', IUPACAmbiguousDNA())"
      ]
     },
     "execution_count": 22,
     "metadata": {},
     "output_type": "execute_result"
    }
   ],
   "source": [
    "# An ambiguous DNA sequence\n",
    "ambiguous = Seq(\"ACGT\", IUPAC.ambiguous_dna)\n",
    "ambiguous"
   ]
  },
  {
   "cell_type": "code",
   "execution_count": 23,
   "metadata": {},
   "outputs": [
    {
     "data": {
      "text/plain": [
       "Seq('ACGU', IUPACAmbiguousRNA())"
      ]
     },
     "execution_count": 23,
     "metadata": {},
     "output_type": "execute_result"
    }
   ],
   "source": [
    "# An RNA sequence\n",
    "# An ambiguous DNA sequence\n",
    "ambiguous = Seq(\"ACGU\", IUPAC.ambiguous_rna)\n",
    "ambiguous"
   ]
  },
  {
   "cell_type": "code",
   "execution_count": 12,
   "metadata": {},
   "outputs": [
    {
     "data": {
      "text/plain": [
       "Seq('TRUMP', IUPACProtein())"
      ]
     },
     "execution_count": 12,
     "metadata": {},
     "output_type": "execute_result"
    }
   ],
   "source": [
    "# An amino acid sequence\n",
    "protein = Seq(\"TRUMP\", IUPAC.protein)\n",
    "protein"
   ]
  },
  {
   "cell_type": "markdown",
   "metadata": {},
   "source": [
    "<h3>2. Translation and transcription</h3>"
   ]
  },
  {
   "cell_type": "code",
   "execution_count": 27,
   "metadata": {},
   "outputs": [
    {
     "data": {
      "text/plain": [
       "Seq('TCGGGART', IUPACAmbiguousDNA())"
      ]
     },
     "execution_count": 27,
     "metadata": {},
     "output_type": "execute_result"
    }
   ],
   "source": [
    "# Complementary DNA\n",
    "sequence = Seq(\"AGCCCTYA\", IUPAC.ambiguous_dna)\n",
    "sequence.complement()"
   ]
  },
  {
   "cell_type": "code",
   "execution_count": 30,
   "metadata": {},
   "outputs": [
    {
     "data": {
      "text/plain": [
       "Seq('TRAGGGCT', IUPACAmbiguousDNA())"
      ]
     },
     "execution_count": 30,
     "metadata": {},
     "output_type": "execute_result"
    }
   ],
   "source": [
    "# Reverse-complementary DNA\n",
    "sequence.reverse_complement()"
   ]
  },
  {
   "cell_type": "code",
   "execution_count": 40,
   "metadata": {},
   "outputs": [
    {
     "data": {
      "text/plain": [
       "Seq('AAAUUUCCCGGG', IUPACUnambiguousRNA())"
      ]
     },
     "execution_count": 40,
     "metadata": {},
     "output_type": "execute_result"
    }
   ],
   "source": [
    "# DNA->RNA\n",
    "dna = Seq(\"AAATTTCCCGGG\", IUPAC.unambiguous_dna)\n",
    "rna = dna.transcribe()\n",
    "rna"
   ]
  },
  {
   "cell_type": "code",
   "execution_count": 41,
   "metadata": {},
   "outputs": [
    {
     "name": "stdout",
     "output_type": "stream",
     "text": [
      "KFPG\n",
      "KFPG\n"
     ]
    }
   ],
   "source": [
    "# RNA->Proteins\n",
    "print(dna.translate()) # The DNA's or RNA's length be a multiple of 3\n",
    "print(rna.translate())"
   ]
  },
  {
   "cell_type": "markdown",
   "metadata": {},
   "source": [
    "<h3>3. Access to common databases</h3>"
   ]
  },
  {
   "cell_type": "code",
   "execution_count": 43,
   "metadata": {},
   "outputs": [],
   "source": [
    "# NCBI Entrez...\n",
    "from Bio import Entrez"
   ]
  },
  {
   "cell_type": "code",
   "execution_count": 46,
   "metadata": {},
   "outputs": [
    {
     "data": {
      "text/plain": [
       "'<?xml version=\"1.0\" encoding=\"UTF-8\" ?>\\n<!DOCTYPE eInfoResult PUBLIC \"-//NLM//DTD einfo 20130322//EN\" \"https://eutils.ncbi.nlm.nih.gov/eutils/dtd/20130322/einfo.dtd\">\\n<eInfoResult>\\n<DbList>\\n\\n\\t<DbName>pubmed</DbName>\\n\\t<DbName>protein</DbName>\\n\\t<DbName>nuccore</DbName>\\n\\t<DbName>ipg</DbName>\\n\\t<DbName>nucleotide</DbName>\\n\\t<DbName>nucgss</DbName>\\n\\t<DbName>nucest</DbName>\\n\\t<DbName>structure</DbName>\\n\\t<DbName>sparcle</DbName>\\n\\t<DbName>genome</DbName>\\n\\t<DbName>annotinfo</DbName>\\n\\t<DbName>assembly</DbName>\\n\\t<DbName>bioproject</DbName>\\n\\t<DbName>biosample</DbName>\\n\\t<DbName>blastdbinfo</DbName>\\n\\t<DbName>books</DbName>\\n\\t<DbName>cdd</DbName>\\n\\t<DbName>clinvar</DbName>\\n\\t<DbName>clone</DbName>\\n\\t<DbName>gap</DbName>\\n\\t<DbName>gapplus</DbName>\\n\\t<DbName>grasp</DbName>\\n\\t<DbName>dbvar</DbName>\\n\\t<DbName>gene</DbName>\\n\\t<DbName>gds</DbName>\\n\\t<DbName>geoprofiles</DbName>\\n\\t<DbName>homologene</DbName>\\n\\t<DbName>medgen</DbName>\\n\\t<DbName>mesh</DbName>\\n\\t<DbName>ncbisearch</DbName>\\n\\t<DbName>nlmcatalog</DbName>\\n\\t<DbName>omim</DbName>\\n\\t<DbName>orgtrack</DbName>\\n\\t<DbName>pmc</DbName>\\n\\t<DbName>popset</DbName>\\n\\t<DbName>probe</DbName>\\n\\t<DbName>proteinclusters</DbName>\\n\\t<DbName>pcassay</DbName>\\n\\t<DbName>biosystems</DbName>\\n\\t<DbName>pccompound</DbName>\\n\\t<DbName>pcsubstance</DbName>\\n\\t<DbName>pubmedhealth</DbName>\\n\\t<DbName>seqannot</DbName>\\n\\t<DbName>snp</DbName>\\n\\t<DbName>sra</DbName>\\n\\t<DbName>taxonomy</DbName>\\n\\t<DbName>biocollections</DbName>\\n\\t<DbName>unigene</DbName>\\n\\t<DbName>gencoll</DbName>\\n\\t<DbName>gtr</DbName>\\n</DbList>\\n\\n</eInfoResult>\\n'"
      ]
     },
     "execution_count": 46,
     "metadata": {},
     "output_type": "execute_result"
    }
   ],
   "source": [
    "# ...get all databases...\n",
    "handle = Entrez.einfo()\n",
    "result = handle.read()\n",
    "handle.close()\n",
    "result"
   ]
  },
  {
   "cell_type": "code",
   "execution_count": 49,
   "metadata": {},
   "outputs": [
    {
     "data": {
      "text/plain": [
       "{'Count': '26222', 'RetMax': '20', 'RetStart': '0', 'IdList': ['28878009', '28876229', '28875385', '28874446', '28870859', '28870858', '28870828', '28869845', '28867634', '28867630', '28867285', '28866277', '28864971', '28864654', '28863970', '28863889', '28863888', '28860258', '28860256', '28860073'], 'TranslationSet': [{'From': 'Vibrio', 'To': '\"vibrio\"[MeSH Terms] OR \"vibrio\"[All Fields]'}], 'TranslationStack': [{'Term': '\"vibrio\"[MeSH Terms]', 'Field': 'MeSH Terms', 'Count': '18772', 'Explode': 'Y'}, {'Term': '\"vibrio\"[All Fields]', 'Field': 'All Fields', 'Count': '26224', 'Explode': 'N'}, 'OR', 'GROUP'], 'QueryTranslation': '\"vibrio\"[MeSH Terms] OR \"vibrio\"[All Fields]'}"
      ]
     },
     "execution_count": 49,
     "metadata": {},
     "output_type": "execute_result"
    }
   ],
   "source": [
    "# ...look up in pubmed\n",
    "Entrez.email = \"\"\n",
    "handle = Entrez.esearch(db=\"pubmed\", term=\"Vibrio\")\n",
    "record = Entrez.read(handle)\n",
    "record"
   ]
  },
  {
   "cell_type": "code",
   "execution_count": 2,
   "metadata": {},
   "outputs": [],
   "source": [
    "# KEGG...\n",
    "from Bio.KEGG import REST\n",
    "from Bio.KEGG import Enzyme"
   ]
  },
  {
   "cell_type": "code",
   "execution_count": 10,
   "metadata": {},
   "outputs": [],
   "source": [
    "# ...get pathways for Vibrio alginolyticus...\n",
    "pathways = REST.kegg_list(\"pathway\", \"vag\").read()"
   ]
  },
  {
   "cell_type": "code",
   "execution_count": 8,
   "metadata": {},
   "outputs": [
    {
     "data": {
      "text/plain": [
       "'path:vag00010'"
      ]
     },
     "execution_count": 8,
     "metadata": {},
     "output_type": "execute_result"
    }
   ],
   "source": [
    "# ...select a pathway...\n",
    "pathway_line = pathways.rstrip().split(\"\\n\")[0]\n",
    "entry, description = pathway_line.split(\"\\t\")\n",
    "entry"
   ]
  },
  {
   "cell_type": "code",
   "execution_count": 12,
   "metadata": {},
   "outputs": [],
   "source": [
    "# ...and analyze this pathway\n",
    "pathway_file = REST.kegg_get(entry).read()"
   ]
  },
  {
   "cell_type": "markdown",
   "metadata": {},
   "source": [
    "<h3>4. Sequence Alignments</h3>"
   ]
  },
  {
   "cell_type": "code",
   "execution_count": 30,
   "metadata": {},
   "outputs": [
    {
     "name": "stdout",
     "output_type": "stream",
     "text": [
      "('AAATTGGGCCGG-----', 'AAA-------GGTTAAA', 5.0, 0, 17)\n"
     ]
    }
   ],
   "source": [
    "# Simple Needleman-Wunsch (note: two cells below, a more complex alternative is shown)\n",
    "from Bio import pairwise2\n",
    "from Bio import SeqIO\n",
    "\n",
    "seq1 = Seq(\"AAATTGGGCCGG\", IUPAC.protein)\n",
    "seq2 = Seq(\"AAAGGTTAAA\", IUPAC.protein)\n",
    "\n",
    "alignments = pairwise2.align.globalxx(seq1, seq2)\n",
    "print(alignments[0]) # First optimal alignment"
   ]
  },
  {
   "cell_type": "code",
   "execution_count": 31,
   "metadata": {},
   "outputs": [
    {
     "name": "stdout",
     "output_type": "stream",
     "text": [
      "('AAATTGGGCCGG', 'AAA--GGTTAAA', 5.0, 0, 12)\n"
     ]
    }
   ],
   "source": [
    "# Simple Smith-Watherman (note: two cells below, a more complex alternative is shown)\n",
    "alignments2 = pairwise2.align.localxx(seq1, seq2)\n",
    "print(alignments2[0]) # First optimal alignment"
   ]
  },
  {
   "cell_type": "code",
   "execution_count": 28,
   "metadata": {},
   "outputs": [
    {
     "name": "stdout",
     "output_type": "stream",
     "text": [
      "('AAATTGGGCCGG', 'AAA--GGTTAAA', 10.5, 0, 12)\n"
     ]
    }
   ],
   "source": [
    "# Better global alignment alternative with penalizing options\n",
    "from Bio.SubsMat.MatrixInfo import blosum62\n",
    "\n",
    "alignments3 = pairwise2.align.globalds(seq1, seq2, blosum62, -10, -0.5)\n",
    "print(alignments3[0])"
   ]
  },
  {
   "cell_type": "code",
   "execution_count": 29,
   "metadata": {},
   "outputs": [
    {
     "name": "stdout",
     "output_type": "stream",
     "text": [
      "('AAATTGGGCCGG', '--AAAGGTTAAA', 16.0, 2, 7)\n"
     ]
    }
   ],
   "source": [
    "# Better local alignment alternative with penalizing options\n",
    "alignments4 = pairwise2.align.localds(seq1, seq2, blosum62, -10, -1)\n",
    "print(alignments4[0])"
   ]
  },
  {
   "cell_type": "markdown",
   "metadata": {},
   "source": [
    "<h3>5. BLAST</h3>"
   ]
  },
  {
   "cell_type": "code",
   "execution_count": 33,
   "metadata": {},
   "outputs": [],
   "source": [
    "# The biopython option is not reliable. Use the command line instead, e.g.\n",
    "blastn_output = run(\"blastn\", \"-query\", \"temp_in.txt\", \"-out\", \"temp_out.txt\", \"-db\", \"nt\", \"-outfmt\", '6 sacc pident qstart qend evalue bitscore stitle sscinames sskingdoms', \"-max_target_seqs\", \"5\")"
   ]
  },
  {
   "cell_type": "markdown",
   "metadata": {},
   "source": [
    "<h3>6. Sequence Motif Analysis</h3>"
   ]
  },
  {
   "cell_type": "code",
   "execution_count": 40,
   "metadata": {},
   "outputs": [],
   "source": [
    "from Bio import motifs"
   ]
  },
  {
   "cell_type": "code",
   "execution_count": 43,
   "metadata": {},
   "outputs": [
    {
     "data": {
      "text/plain": [
       "{'A': [2, 0, 0, 0, 0],\n",
       " 'C': [0, 1, 0, 0, 0],\n",
       " 'G': [0, 0, 2, 0, 1],\n",
       " 'T': [1, 2, 1, 3, 2]}"
      ]
     },
     "execution_count": 43,
     "metadata": {},
     "output_type": "execute_result"
    }
   ],
   "source": [
    "# Generate nucleotide count report\n",
    "seqset = [Seq(\"ACGTG\"),\n",
    "          Seq(\"ATGTT\"),\n",
    "          Seq(\"TTTTT\")]\n",
    "motif = motifs.create(seqset)\n",
    "motif.counts"
   ]
  },
  {
   "cell_type": "code",
   "execution_count": 44,
   "metadata": {},
   "outputs": [
    {
     "data": {
      "text/plain": [
       "[1, 2, 1, 3, 2]"
      ]
     },
     "execution_count": 44,
     "metadata": {},
     "output_type": "execute_result"
    }
   ],
   "source": [
    "# Access a line\n",
    "motif.counts[\"T\"]"
   ]
  },
  {
   "cell_type": "code",
   "execution_count": 46,
   "metadata": {},
   "outputs": [
    {
     "data": {
      "text/plain": [
       "Seq('ATGTT', IUPACUnambiguousDNA())"
      ]
     },
     "execution_count": 46,
     "metadata": {},
     "output_type": "execute_result"
    }
   ],
   "source": [
    "# Get consensus\n",
    "motif.consensus"
   ]
  },
  {
   "cell_type": "code",
   "execution_count": 47,
   "metadata": {},
   "outputs": [
    {
     "data": {
      "text/plain": [
       "Seq('GGAGA', IUPACUnambiguousDNA())"
      ]
     },
     "execution_count": 47,
     "metadata": {},
     "output_type": "execute_result"
    }
   ],
   "source": [
    "# Get anticonsensus\n",
    "motif.anticonsensus"
   ]
  },
  {
   "cell_type": "code",
   "execution_count": 49,
   "metadata": {},
   "outputs": [
    {
     "data": {
      "text/plain": [
       "Seq('ATGTT', IUPACAmbiguousDNA())"
      ]
     },
     "execution_count": 49,
     "metadata": {},
     "output_type": "execute_result"
    }
   ],
   "source": [
    "# Get degenerate consensus\n",
    "motif.degenerate_consensus"
   ]
  },
  {
   "cell_type": "code",
   "execution_count": 50,
   "metadata": {},
   "outputs": [],
   "source": [
    "# Create a logo (using a web service)\n",
    "motif.weblogo(\"./biopython/motif.png\")"
   ]
  },
  {
   "cell_type": "markdown",
   "metadata": {},
   "source": [
    "<img src=\"./biopython/motif.png\"></img>"
   ]
  },
  {
   "cell_type": "markdown",
   "metadata": {},
   "source": [
    "PSB 2017"
   ]
  }
 ],
 "metadata": {
  "kernelspec": {
   "display_name": "Python 3",
   "language": "python",
   "name": "python3"
  },
  "language_info": {
   "codemirror_mode": {
    "name": "ipython",
    "version": 3
   },
   "file_extension": ".py",
   "mimetype": "text/x-python",
   "name": "python",
   "nbconvert_exporter": "python",
   "pygments_lexer": "ipython3",
   "version": "3.6.2"
  }
 },
 "nbformat": 4,
 "nbformat_minor": 2
}
