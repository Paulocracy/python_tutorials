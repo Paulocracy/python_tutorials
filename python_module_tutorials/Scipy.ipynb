{
 "cells": [
  {
   "cell_type": "markdown",
   "metadata": {},
   "source": [
    "<h2>Scipy</h2>\n",
    "This notebook shows the most important functions of Scipy, a Python library for scientific mathematical and statistical routines.\n",
    "\n",
    "Usually, Scipy is bundled with common Python distribution, such as Anaconda (https://www.continuum.io/anaconda). If it is not bundled with your distribution and you use pip, you can install Scipy with the command \"pip install scipy\". A free book which is including lectures about Scipy can be found under http://www.scipy-lectures.org (most of the examples shown in this notebook are derived from this book).\n",
    "\n",
    "After you installed Scipy on your device, you can import it into your Python scripts with the following commands:"
   ]
  },
  {
   "cell_type": "code",
   "execution_count": 2,
   "metadata": {},
   "outputs": [],
   "source": [
    "from scipy import optimize\n",
    "import numpy"
   ]
  },
  {
   "cell_type": "markdown",
   "metadata": {},
   "source": [
    "<h3>1. Optimization</h3>"
   ]
  },
  {
   "cell_type": "code",
   "execution_count": 3,
   "metadata": {},
   "outputs": [],
   "source": [
    "# The following function shall be searched for global minima\n",
    "def to_optimize(x):\n",
    "   return x**2 + 10*x"
   ]
  },
  {
   "cell_type": "code",
   "execution_count": 4,
   "metadata": {},
   "outputs": [
    {
     "name": "stdout",
     "output_type": "stream",
     "text": [
      "Optimization terminated successfully.\n",
      "         Current function value: -25.000000\n",
      "         Iterations: 3\n",
      "         Function evaluations: 12\n",
      "         Gradient evaluations: 4\n"
     ]
    },
    {
     "data": {
      "text/plain": [
       "array([-5.00000003])"
      ]
     },
     "execution_count": 4,
     "metadata": {},
     "output_type": "execute_result"
    }
   ],
   "source": [
    "# The BFGS global minimum finder starts from a start point (here: 0)\n",
    "# It may only find a local minimum, depending on the start point\n",
    "optimize.fmin_bfgs(to_optimize, 0)"
   ]
  },
  {
   "cell_type": "code",
   "execution_count": 5,
   "metadata": {},
   "outputs": [
    {
     "data": {
      "text/plain": [
       "                        fun: -25.000000000000004\n",
       " lowest_optimization_result:       fun: -25.000000000000004\n",
       " hess_inv: array([[ 0.5]])\n",
       "      jac: array([ 0.])\n",
       "  message: 'Optimization terminated successfully.'\n",
       "     nfev: 12\n",
       "      nit: 3\n",
       "     njev: 4\n",
       "   status: 0\n",
       "  success: True\n",
       "        x: array([-5.00000003])\n",
       "                    message: ['requested number of basinhopping iterations completed successfully']\n",
       "      minimization_failures: 0\n",
       "                       nfev: 1023\n",
       "                        nit: 100\n",
       "                       njev: 341\n",
       "                          x: array([-5.00000003])"
      ]
     },
     "execution_count": 5,
     "metadata": {},
     "output_type": "execute_result"
    }
   ],
   "source": [
    "# The basinhopper algorithm is an alternative to BFGS\n",
    "# It is said to be more reliable than BFGS\n",
    "optimize.basinhopping(to_optimize, 0)"
   ]
  },
  {
   "cell_type": "code",
   "execution_count": 6,
   "metadata": {},
   "outputs": [
    {
     "data": {
      "text/plain": [
       "5.3634455116374378e-06"
      ]
     },
     "execution_count": 6,
     "metadata": {},
     "output_type": "execute_result"
    }
   ],
   "source": [
    "# In order to find a local minimum in an interval, an other method is used\n",
    "optimize.fminbound(to_optimize, 0, 10)"
   ]
  },
  {
   "cell_type": "code",
   "execution_count": 7,
   "metadata": {},
   "outputs": [
    {
     "data": {
      "text/plain": [
       "array([ 0.])"
      ]
     },
     "execution_count": 7,
     "metadata": {},
     "output_type": "execute_result"
    }
   ],
   "source": [
    "# Find one of the roots of a function, probalby using an approximated Newton Method (the numeric parameter is an initial guess)\n",
    "# In order to find more roots, other inital guesses have to be used\n",
    "root = optimize.fsolve(to_optimize, 1)\n",
    "root"
   ]
  },
  {
   "cell_type": "markdown",
   "metadata": {},
   "source": [
    "<h3>2. Fitting</h3>"
   ]
  },
  {
   "cell_type": "code",
   "execution_count": 8,
   "metadata": {},
   "outputs": [
    {
     "data": {
      "text/plain": [
       "array([-13.01298105,   7.50649051])"
      ]
     },
     "execution_count": 8,
     "metadata": {},
     "output_type": "execute_result"
    }
   ],
   "source": [
    "# Complex Curve Fitting\n",
    "# We shall find parameters a and b which shall give the best fit to a number of points\n",
    "# For polynomial fitting, you can also use NumPy\n",
    "def to_fit(x, a, b):\n",
    "    return a*(x/2) + b*x\n",
    "\n",
    "xpoints = numpy.linspace(-5, 5, num=10)\n",
    "ypoints = numpy.linspace(5, 15, num=10)\n",
    "initial_guess = [0, 0]\n",
    "parameters, paramameters_covariance = optimize.curve_fit(to_fit, xpoints, ypoints, initial_guess)\n",
    "parameters"
   ]
  },
  {
   "cell_type": "code",
   "execution_count": 9,
   "metadata": {},
   "outputs": [
    {
     "data": {
      "text/plain": [
       "array([[  3.67507259e+17,  -1.83753628e+17],\n",
       "       [ -1.83753628e+17,   9.18768130e+16]])"
      ]
     },
     "execution_count": 9,
     "metadata": {},
     "output_type": "execute_result"
    }
   ],
   "source": [
    "paramameters_covariance"
   ]
  },
  {
   "cell_type": "markdown",
   "metadata": {},
   "source": [
    "<h3>3. Numeric integration</h3>\n",
    "For symbolic integration, you can use SymPy."
   ]
  },
  {
   "cell_type": "code",
   "execution_count": 10,
   "metadata": {},
   "outputs": [],
   "source": [
    "from scipy.integrate import quad"
   ]
  },
  {
   "cell_type": "code",
   "execution_count": 11,
   "metadata": {},
   "outputs": [
    {
     "data": {
      "text/plain": [
       "0.8414709848078965"
      ]
     },
     "execution_count": 11,
     "metadata": {},
     "output_type": "execute_result"
    }
   ],
   "source": [
    "# quad is a very general integrator\n",
    "result, error = quad(numpy.cos, 0, 1)\n",
    "result"
   ]
  },
  {
   "cell_type": "code",
   "execution_count": 12,
   "metadata": {},
   "outputs": [],
   "source": [
    "from scipy.integrate import odeint"
   ]
  },
  {
   "cell_type": "code",
   "execution_count": 13,
   "metadata": {},
   "outputs": [],
   "source": [
    "# This ordinary differential equation shall be solved (dy/dt=-y)...\n",
    "def ode(y, t):\n",
    "    return -y"
   ]
  },
  {
   "cell_type": "code",
   "execution_count": 14,
   "metadata": {},
   "outputs": [],
   "source": [
    "# ... which is done by using odeint\n",
    "timepoints = numpy.linspace(0, 4, 5)\n",
    "yvector, information = odeint(ode, 1, timepoints,\n",
    "                              args=(), full_output=True)"
   ]
  },
  {
   "cell_type": "code",
   "execution_count": 15,
   "metadata": {},
   "outputs": [
    {
     "data": {
      "text/plain": [
       "array([[ 1.        ],\n",
       "       [ 0.36787947],\n",
       "       [ 0.13533528],\n",
       "       [ 0.04978706],\n",
       "       [ 0.01831564]])"
      ]
     },
     "execution_count": 15,
     "metadata": {},
     "output_type": "execute_result"
    }
   ],
   "source": [
    "yvector"
   ]
  },
  {
   "cell_type": "code",
   "execution_count": 16,
   "metadata": {},
   "outputs": [
    {
     "data": {
      "text/plain": [
       "{'hu': array([ 0.12103171,  0.14945291,  0.18225891,  0.18225891]),\n",
       " 'imxer': -1,\n",
       " 'leniw': 21,\n",
       " 'lenrw': 36,\n",
       " 'message': 'Integration successful.',\n",
       " 'mused': array([1, 1, 1, 1], dtype=int32),\n",
       " 'nfe': array([53, 67, 81, 91], dtype=int32),\n",
       " 'nje': array([0, 0, 0, 0], dtype=int32),\n",
       " 'nqu': array([6, 6, 7, 7], dtype=int32),\n",
       " 'nst': array([24, 31, 38, 43], dtype=int32),\n",
       " 'tcur': array([ 1.10478577,  2.00885016,  3.12063254,  4.03192709]),\n",
       " 'tolsf': array([  2.03060980e-321,   2.03060980e-321,   2.03060980e-321,\n",
       "          2.03060980e-321]),\n",
       " 'tsw': array([ 0.,  0.,  0.,  0.])}"
      ]
     },
     "execution_count": 16,
     "metadata": {},
     "output_type": "execute_result"
    }
   ],
   "source": [
    "information"
   ]
  },
  {
   "cell_type": "markdown",
   "metadata": {},
   "source": [
    "<h3>4. Statistics</h3>"
   ]
  },
  {
   "cell_type": "code",
   "execution_count": 17,
   "metadata": {},
   "outputs": [],
   "source": [
    "from scipy import stats"
   ]
  },
  {
   "cell_type": "code",
   "execution_count": 18,
   "metadata": {},
   "outputs": [
    {
     "data": {
      "text/plain": [
       "0.06088385734433243"
      ]
     },
     "execution_count": 18,
     "metadata": {},
     "output_type": "execute_result"
    }
   ],
   "source": [
    "# Fit data points to normal distribution\n",
    "to_fit = numpy.random.normal(size=100)\n",
    "loc, std = stats.norm.fit(to_fit)\n",
    "loc"
   ]
  },
  {
   "cell_type": "code",
   "execution_count": 19,
   "metadata": {},
   "outputs": [
    {
     "data": {
      "text/plain": [
       "0.89161614529809119"
      ]
     },
     "execution_count": 19,
     "metadata": {},
     "output_type": "execute_result"
    }
   ],
   "source": [
    "std"
   ]
  },
  {
   "cell_type": "code",
   "execution_count": 20,
   "metadata": {},
   "outputs": [
    {
     "data": {
      "text/plain": [
       "array([ 0.89186513,  0.39004951,  0.8990611 ,  0.72328141,  0.25901297])"
      ]
     },
     "execution_count": 20,
     "metadata": {},
     "output_type": "execute_result"
    }
   ],
   "source": [
    "# Random numbers should be used using NumPy\n",
    "numpy.random.rand(5)"
   ]
  },
  {
   "cell_type": "markdown",
   "metadata": {},
   "source": [
    "Many more statistical methods and tests are available. A table of available routines can be found under https://docs.scipy.org/doc/scipy/reference/stats.html."
   ]
  },
  {
   "cell_type": "markdown",
   "metadata": {},
   "source": [
    "PSB 2017"
   ]
  }
 ],
 "metadata": {
  "kernelspec": {
   "display_name": "Python 3",
   "language": "python",
   "name": "python3"
  },
  "language_info": {
   "codemirror_mode": {
    "name": "ipython",
    "version": 3
   },
   "file_extension": ".py",
   "mimetype": "text/x-python",
   "name": "python",
   "nbconvert_exporter": "python",
   "pygments_lexer": "ipython3",
   "version": "3.6.2"
  }
 },
 "nbformat": 4,
 "nbformat_minor": 2
}
