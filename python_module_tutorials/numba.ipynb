{
 "cells": [
  {
   "cell_type": "markdown",
   "metadata": {},
   "source": [
    "<h2>numba Introduction</h2>\n",
    "<p>\n",
    "This notebook shows some of numba's main features. For more information, consult the official documentation at  http://numba.pydata.org/doc.html.\n",
    "</p>\n",
    "<p>\n",
    "numba provides a simple compilation interface for Python scripts. It can be used to speed up these scripts.\n",
    "</p>\n",
    "<p>\n",
    "If you use Windows, Linux or macOS the easiest way to get numba is to download and use a preconfigured python distribution, such as Anaconda (https://www.anaconda.com/distribution/).\n",
    "</p>\n",
    "<p>\n",
    "Once you have installed numba on your device, you can load it into your Python script:\n",
    "</p>"
   ]
  },
  {
   "cell_type": "code",
   "execution_count": 1,
   "metadata": {
    "collapsed": false
   },
   "outputs": [],
   "source": [
    "from numba import float64, jit, jitclass, int32, vectorize"
   ]
  },
  {
   "cell_type": "markdown",
   "metadata": {},
   "source": [
    "Then, you can use the @jit decorator to speed up your methods (read https://en.wikipedia.org/wiki/Python_syntax_and_semantics#Decorators for more information about Python decorators):"
   ]
  },
  {
   "cell_type": "code",
   "execution_count": 2,
   "metadata": {
    "collapsed": false
   },
   "outputs": [
    {
     "data": {
      "text/plain": [
       "2"
      ]
     },
     "execution_count": 2,
     "metadata": {},
     "output_type": "execute_result"
    }
   ],
   "source": [
    "@jit\n",
    "def add(a, b):\n",
    "    return a+b\n",
    "add(1,1)"
   ]
  },
  {
   "cell_type": "markdown",
   "metadata": {},
   "source": [
    "You can also define the input variable types (this functionality may become deprecated by mypy):"
   ]
  },
  {
   "cell_type": "code",
   "execution_count": 3,
   "metadata": {
    "collapsed": false
   },
   "outputs": [
    {
     "data": {
      "text/plain": [
       "2"
      ]
     },
     "execution_count": 3,
     "metadata": {},
     "output_type": "execute_result"
    }
   ],
   "source": [
    "@jit(int32(int32, int32))\n",
    "def add(a, b):\n",
    "    return a+b\n",
    "add(1,1)"
   ]
  },
  {
   "cell_type": "markdown",
   "metadata": {},
   "source": [
    "@jit may also be used with class methods, and @jitclass with whole classes:"
   ]
  },
  {
   "cell_type": "code",
   "execution_count": 5,
   "metadata": {
    "collapsed": false
   },
   "outputs": [
    {
     "data": {
      "text/plain": [
       "2"
      ]
     },
     "execution_count": 5,
     "metadata": {},
     "output_type": "execute_result"
    }
   ],
   "source": [
    "class Test1:\n",
    "    @jit\n",
    "    def add(self, a, b):\n",
    "        return a+b\n",
    "test1 = Test1()\n",
    "test1.add(1,1)"
   ]
  },
  {
   "cell_type": "markdown",
   "metadata": {},
   "source": [
    "You may try to enhance the performance of your programs further by using more optimization techniques such as CUDA (http://numba.pydata.org/numba-doc/0.28.1/cuda/index.html; http://numba.pydata.org/numba-doc/0.28.1/cuda/kernels.html) and NumPy (https://docs.scipy.org/doc/numpy/index.html)."
   ]
  },
  {
   "cell_type": "markdown",
   "metadata": {},
   "source": [
    "PSB 2017"
   ]
  }
 ],
 "metadata": {
  "kernelspec": {
   "display_name": "Python 3",
   "language": "python",
   "name": "python3"
  },
  "language_info": {
   "codemirror_mode": {
    "name": "ipython",
    "version": 3
   },
   "file_extension": ".py",
   "mimetype": "text/x-python",
   "name": "python",
   "nbconvert_exporter": "python",
   "pygments_lexer": "ipython3",
   "version": "3.6.2"
  }
 },
 "nbformat": 4,
 "nbformat_minor": 2
}
