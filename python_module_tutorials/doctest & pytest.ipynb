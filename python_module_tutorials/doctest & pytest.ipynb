{
 "cells": [
  {
   "cell_type": "markdown",
   "metadata": {},
   "source": [
    "<h3>doctest & pytest</h3>\n",
    "<p>\n",
    "These two libraries are simple testing solutions for Python modules. \"unittest\".<br>\n",
    "</p>\n",
    "<p>\n",
    "While doctest is included in Python's standard library, pytest hat to be installed separately. However, it is usually bundled with Python's common distributions, such as Anaconda (https://www.continuum.io/anaconda). If it is not bundled with your distribution and you use pip, you can install pytest with the command \"pip install pytest\".<br>\n",
    "</p>\n",
    "<p>\n",
    "doctest's web site is https://docs.python.org/3/library/doctest.html.<br>\n",
    "pytest's web site is https://docs.pytest.org/en/latest/contents.html.\n",
    "</p>"
   ]
  },
  {
   "cell_type": "markdown",
   "metadata": {},
   "source": [
    "<h3>1. doctest</h3>\n",
    "doctest searches for method docstrings which include the input and output of , such as in the following example:"
   ]
  },
  {
   "cell_type": "code",
   "execution_count": 5,
   "metadata": {},
   "outputs": [
    {
     "name": "stdout",
     "output_type": "stream",
     "text": [
      "Trying:\n",
      "    [sqrt(n) for n in range(1)]\n",
      "Expecting:\n",
      "    [0.0]\n",
      "ok\n",
      "Trying:\n",
      "    sqrt(4)\n",
      "Expecting:\n",
      "    2.0\n",
      "ok\n",
      "Trying:\n",
      "    sqrt(-1)\n",
      "Expecting:\n",
      "    Traceback (most recent call last):\n",
      "        ...\n",
      "    ValueError: n must be part of |R\n",
      "ok\n",
      "1 items had no tests:\n",
      "    __main__\n",
      "1 items passed all tests:\n",
      "   3 tests in __main__.sqrt\n",
      "3 tests in 2 items.\n",
      "3 passed and 0 failed.\n",
      "Test passed.\n"
     ]
    },
    {
     "data": {
      "text/plain": [
       "TestResults(failed=0, attempted=3)"
      ]
     },
     "execution_count": 5,
     "metadata": {},
     "output_type": "execute_result"
    }
   ],
   "source": [
    "import math\n",
    "def sqrt(n):\n",
    "    \"\"\"Returns the root in |R.\n",
    "\n",
    "    >>> [sqrt(n) for n in range(1)]\n",
    "    [0.0]\n",
    "    >>> sqrt(4)\n",
    "    2.0\n",
    "    \n",
    "    The number must not be negative:\n",
    "    >>> sqrt(-1)\n",
    "    Traceback (most recent call last):\n",
    "        ...\n",
    "    ValueError: n must be part of |R\n",
    "    \"\"\"\n",
    "    \n",
    "    if n < 0:\n",
    "        raise ValueError(\"n must be part of |R\")\n",
    "    return math.sqrt(n)\n",
    "\n",
    "import doctest\n",
    "doctest.testmod(verbose=True)"
   ]
  },
  {
   "cell_type": "markdown",
   "metadata": {},
   "source": [
    "<h3>2. pytest</h3>\n",
    "The following code could be executed with \"pytest\" in the script's folder:"
   ]
  },
  {
   "cell_type": "code",
   "execution_count": 11,
   "metadata": {},
   "outputs": [],
   "source": [
    "# Test with simple logical check\n",
    "def func(x):\n",
    "    return x + 1\n",
    "\n",
    "def test_answer():\n",
    "    assert func(3) == 5"
   ]
  },
  {
   "cell_type": "code",
   "execution_count": 13,
   "metadata": {},
   "outputs": [],
   "source": [
    "# Test with exception\n",
    "import pytest\n",
    "\n",
    "def f():\n",
    "    raise SystemExit(1)\n",
    "\n",
    "def test_mytest():\n",
    "    with pytest.raises(SystemExit):\n",
    "        f()"
   ]
  },
  {
   "cell_type": "code",
   "execution_count": 10,
   "metadata": {},
   "outputs": [],
   "source": [
    "# This class is found autonatically\n",
    "class TestClass(object):\n",
    "    def test_one(self):\n",
    "        x = \"this\"\n",
    "        assert 'h' in x\n",
    "\n",
    "    def test_two(self):\n",
    "        x = \"hello\"\n",
    "        assert hasattr(x, 'check')"
   ]
  },
  {
   "cell_type": "markdown",
   "metadata": {},
   "source": [
    "<h3>3. doctest & pytest together</h3>"
   ]
  },
  {
   "cell_type": "markdown",
   "metadata": {},
   "source": [
    "doctest can be used for simple tests only. For any complex test, pytest has to be used. For complex project, it might be useful to use only one of the two libraries.<br>\n",
    "A list of good practices can be found under https://docs.pytest.org/en/latest/goodpractices.html#goodpractices."
   ]
  },
  {
   "cell_type": "markdown",
   "metadata": {},
   "source": [
    "PSB 2017"
   ]
  }
 ],
 "metadata": {
  "kernelspec": {
   "display_name": "Python 3",
   "language": "python",
   "name": "python3"
  },
  "language_info": {
   "codemirror_mode": {
    "name": "ipython",
    "version": 3
   },
   "file_extension": ".py",
   "mimetype": "text/x-python",
   "name": "python",
   "nbconvert_exporter": "python",
   "pygments_lexer": "ipython3",
   "version": "3.6.2"
  }
 },
 "nbformat": 4,
 "nbformat_minor": 2
}
