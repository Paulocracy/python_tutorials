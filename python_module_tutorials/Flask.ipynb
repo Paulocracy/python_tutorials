{
 "cells": [
  {
   "cell_type": "markdown",
   "metadata": {},
   "source": [
    "<h2>Flask</h2>\n",
    "Flask is a minimal HTTP server web framework. Using Flask, you can create internet applications in a convenient way. Examples include REST-services, Blogs (with comment functions) and rich internet applications.<br>\n",
    "Usually, Matplotlib is bundled with common Python distributions, such as Anaconda (https://www.continuum.io/anaconda). If it is not bundled with your distribution and you use pip, you can install Flask with the command \"pip install flask\".<br>\n",
    "Flask's home page is http://flask.pocoo.org/docs/0.12/. An official tutorial is under http://flask.pocoo.org/docs/0.12/tutorial/#tutorial. The official quickstart web site is http://flask.pocoo.org/docs/0.12/quickstart/.<br>\n",
    "This notebook presents some of Flask's main functionalities. In order to get a running local web server, you have to copy the code to an external Python script. Running the cells in this notebook should not work correctly."
   ]
  },
  {
   "cell_type": "markdown",
   "metadata": {},
   "source": [
    "<h3>1. Basic functions</h3>"
   ]
  },
  {
   "cell_type": "code",
   "execution_count": null,
   "metadata": {},
   "outputs": [],
   "source": [
    "# test.py\n",
    "from flask import Flask\n",
    "application = Flask(__name__)\n",
    "\n",
    "@application.route('/')\n",
    "def main():\n",
    "    return 'Main Page'\n",
    "\n",
    "@application.route('/function')\n",
    "def hello():\n",
    "    return 'Function page'\n",
    "\n",
    "@app.route('/http_test', methods=['GET', 'POST'])\n",
    "def http_test():\n",
    "    if request.method == \"POST\":\n",
    "        return \"POST\"\n",
    "    else:\n",
    "        return \"GET\"\n",
    "\n",
    "# Other variable types:\n",
    "# string int float path any uuid\n",
    "# string is the default, path is a string with slashes\n",
    "@app.route('/post/<int:integer>')\n",
    "def print_int(integer):\n",
    "    return \"Int is %d\" % integer"
   ]
  },
  {
   "cell_type": "markdown",
   "metadata": {},
   "source": [
    "In order to run this script, type in the following commands in your system's shell:\n",
    "<pre>\n",
    "export FLASK_APP=test.py # Under Linux\n",
    "set FLASK_APP=test.py # Under Windows\n",
    "flask run\n",
    "</pre>\n",
    "In order to enter the degub interface, type in the following commands:\n",
    "<pre>\n",
    "export FLASK_DEBUG=1 # Under Linux\n",
    "set FLASK_DEBUG=1 # Under Windows\n",
    "flask run\n",
    "</pre>"
   ]
  },
  {
   "cell_type": "markdown",
   "metadata": {},
   "source": [
    "<h3>2. Usage with HTML templates</h3>\n",
    "Visit http://jinja.pocoo.org/docs/2.9/templates/ for the Jinja2 template documentation.<br>\n",
    "The section about the template inheritance functionality is http://jinja.pocoo.org/docs/2.9/templates/#template-inheritance.<br>\n",
    "The Flask section about template inheritance is http://flask.pocoo.org/docs/0.12/patterns/templateinheritance/#template-inheritance."
   ]
  },
  {
   "cell_type": "markdown",
   "metadata": {},
   "source": [
    "Use the following folder structure:\n",
    "<pre>\n",
    "/test2.py\n",
    "/templates\n",
    "    /test2.html\n",
    "    /test2_inheritance.html\n",
    "</pre>"
   ]
  },
  {
   "cell_type": "code",
   "execution_count": null,
   "metadata": {},
   "outputs": [],
   "source": [
    "# test2.py\n",
    "from flask import Flask\n",
    "from flask import render_template\n",
    "\n",
    "application = Flask(__name__)\n",
    "\n",
    "@application.route('/test2/')\n",
    "@application.route('/test2/<variable>')\n",
    "def test2(name=None):\n",
    "    return render_template('test2_inheritance.html', variable=variable)"
   ]
  },
  {
   "cell_type": "code",
   "execution_count": null,
   "metadata": {},
   "outputs": [],
   "source": [
    "{#  test2.html #}\n",
    "\n",
    "<!doctype html>\n",
    "<title>Title</title>\n",
    "\n",
    "{# if-else and the variable #}\n",
    "{% if variable %}\n",
    "  <h1>{{ variable }}!</h1>\n",
    "{% else %}\n",
    "  <h1>No variable detected</h1>\n",
    "{% endif %}\n",
    "\n",
    "{# for loop #}\n",
    "{% for element in [\"A\", \"B\"] %}\n",
    "    element\n",
    "{% endfor %}\n",
    "\n",
    "{# with #}\n",
    "{% with %} {# or {% with var=1 %} #}\n",
    "    {% set var = 1 %}\n",
    "    {{ var }}\n",
    "{% endwith %}\n",
    "\n",
    "{# macro #}\n",
    "{% macro print_list(list_) -%}\n",
    "    {%- for item in list_ %}\n",
    "        {{ list_|safe }}<br> {# Using the safe filter #}\n",
    "    {%- endfor %}\n",
    "{%- endmacro %}\n",
    "\n",
    "{# variable assignments #}\n",
    "{% set value = 3 %}\n",
    "{% set navigation %}\n",
    "    <b>Bold text</b>\n",
    "{% endset %}\n",
    "\n",
    "{# Examplary blocks for template inheritance #}\n",
    "{% block with_other style %}\n",
    "    Text\n",
    "    {% block to_fill %}{% endblock %}\n",
    "{% endblock %}\n",
    "{% block overridden %}\n",
    "      This will be overridden\n",
    "{% endblock %}"
   ]
  },
  {
   "cell_type": "code",
   "execution_count": null,
   "metadata": {},
   "outputs": [],
   "source": [
    "{# test2_inheritance.html #}\n",
    "{% extends \"test2.html\" %}\n",
    "\n",
    "{% block to_fill %}Filled{% endblock %}    \n",
    "\n",
    "{% block with_other style %}\n",
    "    {{ super() }}\n",
    "    <style type=\"text/css\">\n",
    "        .important { color: red; }\n",
    "    </style>\n",
    "{% endblock %}\n",
    "\n",
    "{% block overridden %}\n",
    "    New text\n",
    "{% endblock %}"
   ]
  },
  {
   "cell_type": "markdown",
   "metadata": {},
   "source": [
    "<h3>3. Flask-RESTful</h3>\n",
    "Documentation: https://flask-restful.readthedocs.io/en/latest/<br>\n",
    "Quickstart: https://flask-restful.readthedocs.io/en/latest/quickstart.html"
   ]
  },
  {
   "cell_type": "code",
   "execution_count": null,
   "metadata": {},
   "outputs": [],
   "source": [
    "# test3.py (taken from the quickstart)\n",
    "\n",
    "from flask import Flask, request\n",
    "from flask_restful import Resource, Api\n",
    "\n",
    "todos = {}\n",
    "\n",
    "class TodoSimple(Resource):\n",
    "    def get(self, todo_id):\n",
    "        return {todo_id: todos[todo_id]}\n",
    "\n",
    "    def put(self, todo_id):\n",
    "        todos[todo_id] = request.form['data']\n",
    "        return {todo_id: todos[todo_id]}\n",
    "    \n",
    "    def delete(self, todo_id):\n",
    "        del(todos[todo_id])\n",
    "\n",
    "api.add_resource(TodoSimple, '/<string:todo_id>')\n",
    "\n",
    "if __name__ == '__main__':\n",
    "    app.run(debug=True)"
   ]
  },
  {
   "cell_type": "code",
   "execution_count": 6,
   "metadata": {},
   "outputs": [],
   "source": [
    "# api.add_resource(Todo, '/todos') would be another usual command to work with the whole list\n",
    "# Then, the other TodoSimple command could be api.add_resource(TodoSimple, '/<string:todo_id>')"
   ]
  },
  {
   "cell_type": "code",
   "execution_count": null,
   "metadata": {},
   "outputs": [],
   "source": [
    "# URLs to use the Flask-RESTful example\n",
    "# Get does not need an -X GET command in the URL\n",
    "http://localhost:5000/todo1\n",
    "http://localhost:5000/todo1 -d \"data=Data\" -X PUT"
   ]
  },
  {
   "cell_type": "markdown",
   "metadata": {},
   "source": [
    "<h3>4. HTML Form example</h3>"
   ]
  },
  {
   "cell_type": "code",
   "execution_count": null,
   "metadata": {},
   "outputs": [],
   "source": [
    "# test4.py\n",
    "from flask import Flask, render_template, request, url_for\n",
    "\n",
    "app = Flask(__name__)\n",
    "@app.route('/login', methods=['GET', 'POST'])\n",
    "def login():\n",
    "    if request.method == 'POST':\n",
    "        return request.form['username']\n",
    "    return \"GET\"\n",
    "\n",
    "@app.route('/')\n",
    "def print_text():\n",
    "    return render_template(\"test4.html\")"
   ]
  },
  {
   "cell_type": "code",
   "execution_count": null,
   "metadata": {},
   "outputs": [],
   "source": [
    "{# test4.html #}\n",
    "<!doctype html>\n",
    "\n",
    "<h2>Login</h2>\n",
    "<form action=\"{{ url_for('login') }}\" method=post>\n",
    "<dl>\n",
    "    <dt>Username:\n",
    "    <dd><input type=text name=username>\n",
    "    <dd><input type=submit value=Login>\n",
    "</dl>\n",
    "</form>"
   ]
  },
  {
   "cell_type": "markdown",
   "metadata": {},
   "source": [
    "<h3>5. Further reading</h3>"
   ]
  },
  {
   "cell_type": "markdown",
   "metadata": {},
   "source": [
    "List of extensions: http://flask.pocoo.org/extensions/<br>\n",
    "Usage with SQLite: http://flask.pocoo.org/docs/0.12/patterns/sqlite3/#sqlite3<br>\n",
    "Security issues: http://flask.pocoo.org/docs/0.12/security/<br>\n",
    "Testing Flask applications: http://flask.pocoo.org/docs/0.12/testing/"
   ]
  },
  {
   "cell_type": "markdown",
   "metadata": {},
   "source": [
    "PSB 2017"
   ]
  }
 ],
 "metadata": {
  "kernelspec": {
   "display_name": "Python 3",
   "language": "python",
   "name": "python3"
  },
  "language_info": {
   "codemirror_mode": {
    "name": "ipython",
    "version": 3
   },
   "file_extension": ".py",
   "mimetype": "text/x-python",
   "name": "python",
   "nbconvert_exporter": "python",
   "pygments_lexer": "ipython3",
   "version": "3.6.2"
  }
 },
 "nbformat": 4,
 "nbformat_minor": 2
}
