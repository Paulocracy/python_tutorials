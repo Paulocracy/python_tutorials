{
 "cells": [
  {
   "cell_type": "markdown",
   "metadata": {},
   "source": [
    "<h1>NumPy Introduction</h1>\n",
    "<p>\n",
    "This notebook presents a small fraction of NumPy's methods. Read https://docs.scipy.org/doc/numpy/index.html for the whole documentation, https://docs.scipy.org/doc/numpy/user/quickstart.html for the official quick-start.\n",
    "</p>\n",
    "<p>\n",
    "NumPy extends Python with optimized mathematic methods. Additionally, it implements every major matrix operation. NumPy is part of the SciPy project. Usually, mypy is bundled with common Python distributions, such as Anaconda (https://www.continuum.io/anaconda). If it is not bundled with your distribution and you use pip, you can install NumPy with the command \"pip install numpy\".\n",
    "</p>\n",
    "<p>\n",
    "Once you have installed NumPy on your machine, you can load it into your Python programs:\n",
    "</p>"
   ]
  },
  {
   "cell_type": "code",
   "execution_count": 2,
   "metadata": {
    "collapsed": true
   },
   "outputs": [],
   "source": [
    "import numpy"
   ]
  },
  {
   "cell_type": "markdown",
   "metadata": {},
   "source": [
    "<h3>1. Basic Mathematical operations</h3>\n",
    "NumPy provides fast methods (compared to Python's standard methods) for basic mathematical operations and values, either on single values or on NumPy matrices:"
   ]
  },
  {
   "cell_type": "code",
   "execution_count": 3,
   "metadata": {
    "collapsed": false
   },
   "outputs": [
    {
     "data": {
      "text/plain": [
       "1.0"
      ]
     },
     "execution_count": 3,
     "metadata": {},
     "output_type": "execute_result"
    }
   ],
   "source": [
    "numpy.sin(numpy.pi/2)"
   ]
  },
  {
   "cell_type": "code",
   "execution_count": 4,
   "metadata": {
    "collapsed": false
   },
   "outputs": [
    {
     "data": {
      "text/plain": [
       "2.7182818284590451"
      ]
     },
     "execution_count": 4,
     "metadata": {},
     "output_type": "execute_result"
    }
   ],
   "source": [
    "numpy.exp(1) # e**1"
   ]
  },
  {
   "cell_type": "markdown",
   "metadata": {},
   "source": [
    "<h3>2. Enumerations</h3>\n",
    "With numpy, you can generate basic enumerations which are often used in other scientific Python libraries."
   ]
  },
  {
   "cell_type": "code",
   "execution_count": 42,
   "metadata": {},
   "outputs": [
    {
     "data": {
      "text/plain": [
       "array([0, 1, 2, 3, 4, 5, 6, 7, 8, 9])"
      ]
     },
     "execution_count": 42,
     "metadata": {},
     "output_type": "execute_result"
    }
   ],
   "source": [
    "# Numbers from 0 to 9\n",
    "numpy.arange(10)"
   ]
  },
  {
   "cell_type": "code",
   "execution_count": 48,
   "metadata": {},
   "outputs": [
    {
     "data": {
      "text/plain": [
       "array([ 13.,  14.,  15.,  16.,  17.])"
      ]
     },
     "execution_count": 48,
     "metadata": {},
     "output_type": "execute_result"
    }
   ],
   "source": [
    "# 5 equally distributed numbers in the interval [13; 17]\n",
    "numpy.linspace(13, 17, 5, endpoint=True)"
   ]
  },
  {
   "cell_type": "markdown",
   "metadata": {},
   "source": [
    "<h3>3. Numpy \"array\" class</h3>\n",
    "NumPy's most important matrix class is \"array\". It is the representation of matrices. You can define single-lined or multidimensional arrays, and access them like a Python lists (or a list of lists):"
   ]
  },
  {
   "cell_type": "code",
   "execution_count": 5,
   "metadata": {
    "collapsed": false
   },
   "outputs": [
    {
     "data": {
      "text/plain": [
       "array([1, 2, 3])"
      ]
     },
     "execution_count": 5,
     "metadata": {},
     "output_type": "execute_result"
    }
   ],
   "source": [
    "single_lined = numpy.array([1,2,3])\n",
    "single_lined"
   ]
  },
  {
   "cell_type": "code",
   "execution_count": 49,
   "metadata": {
    "collapsed": false
   },
   "outputs": [
    {
     "data": {
      "text/plain": [
       "2"
      ]
     },
     "execution_count": 49,
     "metadata": {},
     "output_type": "execute_result"
    }
   ],
   "source": [
    "# Access to single element.\n",
    "single_lined[1]"
   ]
  },
  {
   "cell_type": "code",
   "execution_count": 40,
   "metadata": {
    "collapsed": false
   },
   "outputs": [
    {
     "data": {
      "text/plain": [
       "array([[0, 1],\n",
       "       [2, 3],\n",
       "       [4, 5],\n",
       "       [6, 7],\n",
       "       [8, 9]])"
      ]
     },
     "execution_count": 40,
     "metadata": {},
     "output_type": "execute_result"
    }
   ],
   "source": [
    "multidimensional = numpy.arange(10)\n",
    "multidimensional = multidimensional.reshape(5,2)\n",
    "multidimensional"
   ]
  },
  {
   "cell_type": "code",
   "execution_count": 50,
   "metadata": {
    "collapsed": false
   },
   "outputs": [
    {
     "data": {
      "text/plain": [
       "array([0, 1])"
      ]
     },
     "execution_count": 50,
     "metadata": {},
     "output_type": "execute_result"
    }
   ],
   "source": [
    "# Access to line\n",
    "multidimensional[0]"
   ]
  },
  {
   "cell_type": "code",
   "execution_count": 51,
   "metadata": {
    "collapsed": false
   },
   "outputs": [
    {
     "data": {
      "text/plain": [
       "0"
      ]
     },
     "execution_count": 51,
     "metadata": {},
     "output_type": "execute_result"
    }
   ],
   "source": [
    "# Access to single element\n",
    "multidimensional[0][0]"
   ]
  },
  {
   "cell_type": "markdown",
   "metadata": {},
   "source": [
    "For multidimensinal arrays, NumPy provides a convenient slice-based row and line access:"
   ]
  },
  {
   "cell_type": "code",
   "execution_count": 56,
   "metadata": {},
   "outputs": [
    {
     "data": {
      "text/plain": [
       "array([0, 2, 4, 6, 8])"
      ]
     },
     "execution_count": 56,
     "metadata": {},
     "output_type": "execute_result"
    }
   ],
   "source": [
    "# Access to first row using slices\n",
    "multidimensional[:,0]"
   ]
  },
  {
   "cell_type": "markdown",
   "metadata": {},
   "source": [
    "Arrays have attributes with additional information about them:"
   ]
  },
  {
   "cell_type": "code",
   "execution_count": 10,
   "metadata": {
    "collapsed": false
   },
   "outputs": [
    {
     "data": {
      "text/plain": [
       "10"
      ]
     },
     "execution_count": 10,
     "metadata": {},
     "output_type": "execute_result"
    }
   ],
   "source": [
    "multidimensional.size"
   ]
  },
  {
   "cell_type": "markdown",
   "metadata": {},
   "source": [
    "Similar to Python's standard lists, you can perform mathematical operations on the array elements directly:"
   ]
  },
  {
   "cell_type": "code",
   "execution_count": 41,
   "metadata": {
    "collapsed": false
   },
   "outputs": [
    {
     "data": {
      "text/plain": [
       "array([2, 4, 6])"
      ]
     },
     "execution_count": 41,
     "metadata": {},
     "output_type": "execute_result"
    }
   ],
   "source": [
    "single_lined*2"
   ]
  },
  {
   "cell_type": "code",
   "execution_count": 12,
   "metadata": {
    "collapsed": false
   },
   "outputs": [
    {
     "data": {
      "text/plain": [
       "array([[  1.00000000e+00,   2.71828183e+00],\n",
       "       [  7.38905610e+00,   2.00855369e+01],\n",
       "       [  5.45981500e+01,   1.48413159e+02],\n",
       "       [  4.03428793e+02,   1.09663316e+03],\n",
       "       [  2.98095799e+03,   8.10308393e+03]])"
      ]
     },
     "execution_count": 12,
     "metadata": {},
     "output_type": "execute_result"
    }
   ],
   "source": [
    "numpy.exp(multidimensional)"
   ]
  },
  {
   "cell_type": "markdown",
   "metadata": {},
   "source": [
    "<h3>4. Basic matrix operations with \"array\"</h3>\n",
    "All matrix calculations can be performed with NumPy arrays:"
   ]
  },
  {
   "cell_type": "code",
   "execution_count": 23,
   "metadata": {
    "collapsed": false
   },
   "outputs": [
    {
     "data": {
      "text/plain": [
       "array([ 4, 16, 28, 40, 52])"
      ]
     },
     "execution_count": 23,
     "metadata": {},
     "output_type": "execute_result"
    }
   ],
   "source": [
    "# The dot product\n",
    "vector = numpy.array([2,4])\n",
    "multidimensional.dot(vector)"
   ]
  },
  {
   "cell_type": "code",
   "execution_count": 25,
   "metadata": {},
   "outputs": [
    {
     "ename": "ValueError",
     "evalue": "shapes (2,) and (5,2) not aligned: 2 (dim 0) != 5 (dim 0)",
     "output_type": "error",
     "traceback": [
      "\u001b[1;31m---------------------------------------------------------------------------\u001b[0m",
      "\u001b[1;31mValueError\u001b[0m                                Traceback (most recent call last)",
      "\u001b[1;32m<ipython-input-25-f29f6345d6d8>\u001b[0m in \u001b[0;36m<module>\u001b[1;34m()\u001b[0m\n\u001b[0;32m      1\u001b[0m \u001b[1;31m# This dot product does not work, as the dimensions do not fit\u001b[0m\u001b[1;33m\u001b[0m\u001b[1;33m\u001b[0m\u001b[0m\n\u001b[1;32m----> 2\u001b[1;33m \u001b[0mvector\u001b[0m\u001b[1;33m.\u001b[0m\u001b[0mdot\u001b[0m\u001b[1;33m(\u001b[0m\u001b[0mmultidimensional\u001b[0m\u001b[1;33m)\u001b[0m\u001b[1;33m\u001b[0m\u001b[0m\n\u001b[0m",
      "\u001b[1;31mValueError\u001b[0m: shapes (2,) and (5,2) not aligned: 2 (dim 0) != 5 (dim 0)"
     ]
    }
   ],
   "source": [
    "# This dot product does not work, as the dimensions do not fit\n",
    "vector.dot(multidimensional)"
   ]
  },
  {
   "cell_type": "code",
   "execution_count": 32,
   "metadata": {},
   "outputs": [
    {
     "name": "stdout",
     "output_type": "stream",
     "text": [
      "[[0 1]\n",
      " [2 3]\n",
      " [4 5]\n",
      " [6 7]\n",
      " [8 9]]\n",
      "\n",
      "[[0 2 4 6 8]\n",
      " [1 3 5 7 9]]\n"
     ]
    }
   ],
   "source": [
    "# Transposition\n",
    "print(multidimensional)\n",
    "print()\n",
    "print(multidimensional.T)"
   ]
  },
  {
   "cell_type": "code",
   "execution_count": 35,
   "metadata": {},
   "outputs": [
    {
     "data": {
      "text/plain": [
       "array([ 1.-2.j,  3.-4.j])"
      ]
     },
     "execution_count": 35,
     "metadata": {},
     "output_type": "execute_result"
    }
   ],
   "source": [
    "# Conjugated matrix (using complex numbers)\n",
    "complex_vector = numpy.array([1+2j, 3+4j])\n",
    "complex_vector.conj()"
   ]
  },
  {
   "cell_type": "markdown",
   "metadata": {},
   "source": [
    "<h3>5. Linear algebra operations</h3>\n",
    "Additionally, all special quadratic matrix operations can be performed with numy.array compatible methods, using numpy.linalg\n",
    "(More information at http://docs.scipy.org/doc/numpy/reference/routines.linalg.html):"
   ]
  },
  {
   "cell_type": "code",
   "execution_count": 14,
   "metadata": {
    "collapsed": false
   },
   "outputs": [
    {
     "data": {
      "text/plain": [
       "array([[ 0,  1,  2,  3,  4],\n",
       "       [ 5,  6,  7,  8,  9],\n",
       "       [10, 11, 12, 13, 14],\n",
       "       [15, 16, 17, 18, 19],\n",
       "       [20, 21, 22, 23, 24]])"
      ]
     },
     "execution_count": 14,
     "metadata": {},
     "output_type": "execute_result"
    }
   ],
   "source": [
    "import numpy.linalg\n",
    "square_array = numpy.arange(25).reshape(5,5)\n",
    "square_array"
   ]
  },
  {
   "cell_type": "code",
   "execution_count": 15,
   "metadata": {
    "collapsed": false
   },
   "outputs": [
    {
     "data": {
      "text/plain": [
       "0.0"
      ]
     },
     "execution_count": 15,
     "metadata": {},
     "output_type": "execute_result"
    }
   ],
   "source": [
    "# Return the quadratic matrix's determinant.\n",
    "numpy.linalg.det(square_array) "
   ]
  },
  {
   "cell_type": "code",
   "execution_count": 16,
   "metadata": {
    "collapsed": false
   },
   "outputs": [
    {
     "data": {
      "text/plain": [
       "(array([  6.39116499e+01,  -3.91164992e+00,  -4.06523933e-15,\n",
       "          2.58443073e-16,   1.51528038e-15]),\n",
       " array([[-0.0851802 ,  0.67779864, -0.46549901,  0.18772213, -0.00207481],\n",
       "        [-0.23825372,  0.36348873,  0.55597991, -0.0514454 , -0.41636356],\n",
       "        [-0.39132723,  0.04917881, -0.15590518, -0.65194893,  0.2955311 ],\n",
       "        [-0.54440074, -0.2651311 ,  0.50586667,  0.70734553,  0.66632773],\n",
       "        [-0.69747425, -0.57944101, -0.44044239, -0.19167334, -0.54342046]]))"
      ]
     },
     "execution_count": 16,
     "metadata": {},
     "output_type": "execute_result"
    }
   ],
   "source": [
    "# Return the eigenvalues and (in order) the corresponding eigenvectors (in columns).\n",
    "numpy.linalg.eig(square_array)"
   ]
  },
  {
   "cell_type": "code",
   "execution_count": 17,
   "metadata": {
    "collapsed": false
   },
   "outputs": [
    {
     "data": {
      "text/plain": [
       "array([-0.0851802 , -0.23825372, -0.39132723, -0.54440074, -0.69747425])"
      ]
     },
     "execution_count": 17,
     "metadata": {},
     "output_type": "execute_result"
    }
   ],
   "source": [
    "# Access the eigenvector for the first eigenvalue. \n",
    "numpy.linalg.eig(square_array)[1][:,0]"
   ]
  },
  {
   "cell_type": "code",
   "execution_count": 39,
   "metadata": {},
   "outputs": [
    {
     "data": {
      "text/plain": [
       "array([ 0.32+0.84j, -0.56+0.28j])"
      ]
     },
     "execution_count": 39,
     "metadata": {},
     "output_type": "execute_result"
    }
   ],
   "source": [
    "# Solve the linear matrix equation.\n",
    "# Solved equation: 1*x1 - 3*x2 = 2 and 2*x1 + (3+5j)+x2 = -3\n",
    "matrix = numpy.array([[1,-3], [2,4+5j]])\n",
    "vector = numpy.array([2,-3])\n",
    "numpy.linalg.solve(matrix, vector)"
   ]
  },
  {
   "cell_type": "markdown",
   "metadata": {},
   "source": [
    "<h3>6. Polynomial operations</h3>"
   ]
  },
  {
   "cell_type": "code",
   "execution_count": 2,
   "metadata": {},
   "outputs": [
    {
     "data": {
      "text/plain": [
       "array([-0.33333333-0.47140452j, -0.33333333+0.47140452j])"
      ]
     },
     "execution_count": 2,
     "metadata": {},
     "output_type": "execute_result"
    }
   ],
   "source": [
    "import numpy.polynomial\n",
    "# Set x^3 + 2x^2 + 3x\n",
    "p = numpy.polynomial.Polynomial([1, 2, 3])\n",
    "\n",
    "# Get the roots of it\n",
    "p.roots()"
   ]
  },
  {
   "cell_type": "code",
   "execution_count": 3,
   "metadata": {},
   "outputs": [
    {
     "data": {
      "text/plain": [
       "2"
      ]
     },
     "execution_count": 3,
     "metadata": {},
     "output_type": "execute_result"
    }
   ],
   "source": [
    "# Get the degree\n",
    "p.degree()"
   ]
  },
  {
   "cell_type": "markdown",
   "metadata": {},
   "source": [
    "Polynomial fit (https://en.wikipedia.org/wiki/Chebyshev_polynomials):"
   ]
  },
  {
   "cell_type": "code",
   "execution_count": 13,
   "metadata": {},
   "outputs": [
    {
     "data": {
      "text/plain": [
       "Chebyshev([ -8.50040650e-16,  -1.13364818e+00,   1.95734683e-15,\n",
       "         1.38071776e-01,  -1.18317684e-15,  -4.49071453e-03,\n",
       "         9.13246902e-16,   6.77006993e-05,  -5.77827989e-16,\n",
       "        -5.90299662e-07,   9.37024407e-17], [ 0.        ,  3.14159265], [-1.,  1.])"
      ]
     },
     "execution_count": 13,
     "metadata": {},
     "output_type": "execute_result"
    }
   ],
   "source": [
    "# Fit cos to a polynomial\n",
    "# For more complex fitting, you may use Scipy\n",
    "x_points = numpy.linspace(0, numpy.pi, 100)\n",
    "y_to_fit = numpy.cos(x_points)\n",
    "\n",
    "# Get  polynomial fit up to the 10th degree\n",
    "numpy.polynomial.Chebyshev.fit(x_points, y_to_fit, 10)"
   ]
  },
  {
   "cell_type": "markdown",
   "metadata": {},
   "source": [
    "<p>\n",
    "numpy.array is the basic numeric data structure for all non-symbolic matrix operations which are used in the SciPy project. You can find it in Matplotlib, pandas, scipy.stats, and other SciPy and external modules.\n",
    "</p>\n",
    "<p>\n",
    "You can enhance the performance of NumPy operations further if you use optimization techniques such as numba (http://numba.pydata.org/), Cython (http://cython.org/) or Theano (http://deeplearning.net/software/theano/).\n",
    "</p>"
   ]
  },
  {
   "cell_type": "markdown",
   "metadata": {},
   "source": [
    "PSB 2017"
   ]
  }
 ],
 "metadata": {
  "kernelspec": {
   "display_name": "Python 3",
   "language": "python",
   "name": "python3"
  },
  "language_info": {
   "codemirror_mode": {
    "name": "ipython",
    "version": 3
   },
   "file_extension": ".py",
   "mimetype": "text/x-python",
   "name": "python",
   "nbconvert_exporter": "python",
   "pygments_lexer": "ipython3",
   "version": "3.6.2"
  }
 },
 "nbformat": 4,
 "nbformat_minor": 2
}
