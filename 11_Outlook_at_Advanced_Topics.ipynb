{
 "cells": [
  {
   "cell_type": "markdown",
   "metadata": {},
   "source": [
    "# Outlook at Advanced Topics"
   ]
  },
  {
   "cell_type": "markdown",
   "metadata": {},
   "source": [
    "## Classes"
   ]
  },
  {
   "cell_type": "markdown",
   "metadata": {},
   "source": [
    "Classes are like dictionaries but in a more standardized way. The definition of a class describes a kind ob \"object\" and can have its own variables and methods. If the class itself is referenced, the keyword \"self\" *must* be used. In addition, classes can be automatically instantiated and can be defined like data types, e.g. by defining behavior for operators such as \"+=\" (but most computer scientists hate this trick D:)."
   ]
  },
  {
   "cell_type": "code",
   "execution_count": 7,
   "metadata": {},
   "outputs": [
    {
     "name": "stdout",
     "output_type": "stream",
     "text": [
      "Brand:\n",
      "Ford\n",
      "Model:\n",
      "Atomic\n",
      "Engine type:\n",
      "nuclear\n"
     ]
    }
   ],
   "source": [
    "# Let us define an exemplary class for cars :D\n",
    "class Car:\n",
    "    # Constructor, usual place to define class\n",
    "    # variables and to initiate them\n",
    "    def __init__(self, brand, model, engine_type):\n",
    "        self.brand = brand\n",
    "        self.model = model\n",
    "        self.engine_type = engine_type\n",
    "    \n",
    "    # A member function, must use \"self\" as\n",
    "    # 1st argument\n",
    "    def print_data(self):\n",
    "        print(\"Brand:\")\n",
    "        print(self.brand)\n",
    "        print(\"Model:\")\n",
    "        print(self.model)\n",
    "        print(\"Engine type:\")\n",
    "        print(self.engine_type)\n",
    "\n",
    "\n",
    "# Let us define an instance of Car :D\n",
    "car = Car(\"Ford\", \"Atomic\", \"nuclear\")\n",
    "# Let us call the Car instance's member functions :D\n",
    "car.print_data()"
   ]
  },
  {
   "cell_type": "markdown",
   "metadata": {},
   "source": [
    "You can also inherit from previous classes and extend them:"
   ]
  },
  {
   "cell_type": "code",
   "execution_count": 24,
   "metadata": {},
   "outputs": [
    {
     "name": "stdout",
     "output_type": "stream",
     "text": [
      "Brand:\n",
      "Tesla\n",
      "Model:\n",
      "Model 3\n",
      "Engine type:\n",
      "electric\n"
     ]
    }
   ],
   "source": [
    "# Let us inherit from Car...\n",
    "class ElectricCar(Car):\n",
    "    def __init__(self, brand, model):\n",
    "        # Let us initialize the base class (Car)\n",
    "        Car.__init__(self, brand, model, \"electric\")\n",
    "        # Alternatively, you can also use the super()\n",
    "        # base function :-)\n",
    "\n",
    "# Let us define an instance of ElectricCar :D\n",
    "electric_car = ElectricCar(\"Tesla\", \"Model 3\")\n",
    "# Let us use a function of Car :D\n",
    "electric_car.print_data()"
   ]
  },
  {
   "cell_type": "markdown",
   "metadata": {},
   "source": [
    "Hint for advanced users: If you want structs like in C, use Python's dataclasses instance in the dataclasses module :-)"
   ]
  },
  {
   "cell_type": "markdown",
   "metadata": {},
   "source": [
    "## Decorators"
   ]
  },
  {
   "cell_type": "markdown",
   "metadata": {},
   "source": [
    "Decorators are \"syntactic sugar\" (i.e. an not neccessary but cute addition to the syntax of Python) and are used in some popular packages. They are basically defined as follows:"
   ]
  },
  {
   "cell_type": "code",
   "execution_count": 36,
   "metadata": {},
   "outputs": [
    {
     "name": "stdout",
     "output_type": "stream",
     "text": [
      "AB\n",
      "AB\n"
     ]
    }
   ],
   "source": [
    "# Let us first define a fucnction with takes\n",
    "# another function as argument\n",
    "def function_which_takes_function(function):\n",
    "    print(\"A\"+function())\n",
    "\n",
    "# Now, we define a very simple function\n",
    "def function_which_returns_two_without_decorator():\n",
    "    return \"B\"\n",
    "# In order to enhance this function with function_which_takes_function\n",
    "# so that is prints the double amount, we would have to write the following:\n",
    "function_which_returns_two_without_decorator = function_which_takes_function(function_which_returns_two_without_decorator)\n",
    "# Thats cumbersome D:\n",
    "\n",
    "# Using a decorator (Syntax: @name_of_function_which_takes_function_as_argument),\n",
    "# we can save the cumbersome writing.\n",
    "@function_which_takes_function\n",
    "def function_which_returns_two_with_decorator():\n",
    "    return \"B\""
   ]
  },
  {
   "cell_type": "markdown",
   "metadata": {},
   "source": [
    "TLDR: Decorators \"enhance\" functions with additional behavior"
   ]
  },
  {
   "cell_type": "markdown",
   "metadata": {},
   "source": [
    "## Static Typing :D"
   ]
  },
  {
   "cell_type": "markdown",
   "metadata": {},
   "source": [
    "Since Python 3.7, static typing is automatically included :D\n",
    "A violation of static typing does not lead to an error, just to a warning"
   ]
  },
  {
   "cell_type": "code",
   "execution_count": 42,
   "metadata": {},
   "outputs": [],
   "source": [
    "# Syntax:\n",
    "# variable_name: data_type_name\n",
    "\n",
    "# Basic data types\n",
    "a: int = 1\n",
    "b: str = \"A\"\n",
    "c: bool = True\n",
    "# ...and so on..."
   ]
  },
  {
   "cell_type": "code",
   "execution_count": 43,
   "metadata": {},
   "outputs": [],
   "source": [
    "# Advanced data types using the \"typing\" module\n",
    "from typing import Any, List, Dict\n",
    "\n",
    "# Any \n",
    "a: Any = \"A\"\n",
    "a = 2\n",
    "\n",
    "# A list of integers \\o/\n",
    "b: List[int] = [1, 2, 3]\n",
    "    \n",
    "# A dict with bool as values, str as key\n",
    "c: Dict[str, bool] = {\n",
    "    \"A\": True,\n",
    "    \"B\": False,\n",
    "}"
   ]
  },
  {
   "cell_type": "markdown",
   "metadata": {},
   "source": [
    "## Popular Python Editors"
   ]
  },
  {
   "cell_type": "markdown",
   "metadata": {},
   "source": [
    "Advanced Python editors (which are more suitable for non-interactive programming, unlike Spyder :-) show you many warnings, style guidelines, syntax errors etc. even before you start a script :D This is done using Python's own \"linter\" (source code evaluator). In addition, these modern editors help you in navigating the source code, e.g. by showing you the help for a definition automatically :D\n",
    "\n",
    "The most popular Python editors right now are:\n",
    "\n",
    "1. Visual Studio Code, from Microsoft, but free and open-source: [Link](https://code.visualstudio.com/)\n",
    "\n",
    "2. PyCharm, from JetBrains, freeware (not open source): [Link](https://www.jetbrains.com/pycharm/)"
   ]
  },
  {
   "cell_type": "markdown",
   "metadata": {},
   "source": [
    "But right now, Spyder is the best editor for interactive programming with Python :-)"
   ]
  }
 ],
 "metadata": {
  "kernelspec": {
   "display_name": "Python 3",
   "language": "python",
   "name": "python3"
  },
  "language_info": {
   "codemirror_mode": {
    "name": "ipython",
    "version": 3
   },
   "file_extension": ".py",
   "mimetype": "text/x-python",
   "name": "python",
   "nbconvert_exporter": "python",
   "pygments_lexer": "ipython3",
   "version": "3.7.1"
  }
 },
 "nbformat": 4,
 "nbformat_minor": 2
}
