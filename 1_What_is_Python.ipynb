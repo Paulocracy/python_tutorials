{
 "cells": [
  {
   "cell_type": "markdown",
   "metadata": {},
   "source": [
    "# What is Python?\n",
    "\n",
    "<small>(c) Python Software Foundation</small>"
   ]
  },
  {
   "cell_type": "markdown",
   "metadata": {},
   "source": [
    "## Basic Description\n",
    "\n",
    "Per definition, Python is a \"multi-paradigm interpreted programming language</i>\"<br>What does this mean?\n",
    "\n",
    "* multi-paradigm: A \"paradigm\" is a way of programming, e.g. \"logic programming\" or \"object-oriented programming\". Python intends to include many paradigms, while maintaining a cute syntax :-)\n",
    "* interpreted programming langague: "
   ]
  },
  {
   "cell_type": "markdown",
   "metadata": {},
   "source": [
    "## Short History\n",
    "\n",
    "* 1990: First released version of the Python interpreter, created as part of a research project by Guido van Rossum\n",
    "* 2000: Python 2 is released, with a refurbished syntax which incompatible with the previous Python\n",
    "* 2008: Python 3 is released, again refurbished and incompatible with Python 2\n",
    "* 2010s: <b>Hype up \\o/</b>\n",
    "* 2019: Together with Java/Kotlin, Python is the most popular programming language of the world\n",
    "* 2020: End of life for Python 2, only Python 3 will be officially supported"
   ]
  },
  {
   "cell_type": "markdown",
   "metadata": {},
   "source": [
    "## CPython and The Python Software Foundation\n",
    "\n",
    "https://www.python.org/"
   ]
  },
  {
   "cell_type": "markdown",
   "metadata": {},
   "source": [
    "## Python Distributions"
   ]
  }
 ],
 "metadata": {
  "kernelspec": {
   "display_name": "Python 3",
   "language": "python",
   "name": "python3"
  },
  "language_info": {
   "codemirror_mode": {
    "name": "ipython",
    "version": 3
   },
   "file_extension": ".py",
   "mimetype": "text/x-python",
   "name": "python",
   "nbconvert_exporter": "python",
   "pygments_lexer": "ipython3",
   "version": "3.7.1"
  }
 },
 "nbformat": 4,
 "nbformat_minor": 2
}