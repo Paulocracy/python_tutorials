{
 "cells": [
  {
   "cell_type": "markdown",
   "metadata": {},
   "source": [
    "# What is Python?"
   ]
  },
  {
   "cell_type": "markdown",
   "metadata": {},
   "source": [
    "## Basic Description\n",
    "\n",
    "Per definition, Python is a \"multi-paradigm interpreted programming language</i>\"<br>What does this mean?\n",
    "\n",
    "* multi-paradigm: A \"paradigm\" is a way of programming, e.g. \"logic programming\" or \"object-oriented programming\". Python intends to include many paradigms, while maintaining a cute syntax :-)\n",
    "* interpreted programming langague: Usual Python commands or scripts are not directly translated into machine code. This is in contrast to \"compiled\" languages such as C, C++, Rust or Go. Instead, Python commands or scripts are *interpreted* by a Python interpreter. The Python interpreter itself is a compiled (=machine-code-translated) program which performs all neccessary computing steps.\n",
    "\n",
    "<pre>\n",
    "Schematic of \"compiled\" languages (such as Rust):\n",
    "source code file -> Compiler -> machine code binary, e.g. an .exe file\n",
    "</pre>\n",
    "\n",
    "<pre>\n",
    "Schematic of \"interpreted\" languages (such as Python):\n",
    "Either...\n",
    "start Python interpreter -> enter command -> command is interpreted and executed\n",
    "...or...\n",
    "source code file (.py) -> run Python interpreter on it -> file is interpreted and executed\n",
    "</pre>"
   ]
  },
  {
   "cell_type": "markdown",
   "metadata": {},
   "source": [
    "## Short History of Python\n",
    "\n",
    "* 1990: First released version of the Python interpreter, created as part of a research project by Guido van Rossum\n",
    "* 2000: Python 2 is released, with a refurbished syntax which incompatible with the previous Python\n",
    "* 2008: Python 3 is released, again refurbished and incompatible with Python 2\n",
    "* 2010s: <b>Hype up \\o/</b>\n",
    "* 2019: Together with Java/Kotlin, Python is the most popular programming language of the world\n",
    "* 2020: End of life for Python 2, only Python 3 will be officially supported"
   ]
  },
  {
   "cell_type": "markdown",
   "metadata": {},
   "source": [
    "## CPython and The Python Software Foundation\n",
    "\n",
    "The Python Software Foundation is the central organization which defines Python and which approves new developments for it. In addition, supervises the development of Python's most popular interpreter, <b>CPython</b>, which is named after C, the compiled language in which it is written.\n",
    "\n",
    "The Python Software Foundation's (and CPython's) homepage is:\n",
    "https://www.python.org/"
   ]
  },
  {
   "cell_type": "markdown",
   "metadata": {},
   "source": [
    "## Python Distributions\n",
    "\n",
    "The standard downloadable form of CPython already includes many extra modules (e.g. for advanced mathematics or reading/writing special file formats). Such a combination of an interpreter with extra modules is called a *distribution*.\n",
    "\n",
    "We are going to use the Anaconda distribution, which is one of the most popular ones and which includes a huge variety of preinstalled modules. In addition, it includes a nice graphical user interface for everything :-)"
   ]
  }
 ],
 "metadata": {
  "kernelspec": {
   "display_name": "Python 3",
   "language": "python",
   "name": "python3"
  },
  "language_info": {
   "codemirror_mode": {
    "name": "ipython",
    "version": 3
   },
   "file_extension": ".py",
   "mimetype": "text/x-python",
   "name": "python",
   "nbconvert_exporter": "python",
   "pygments_lexer": "ipython3",
   "version": "3.7.1"
  }
 },
 "nbformat": 4,
 "nbformat_minor": 2
}
