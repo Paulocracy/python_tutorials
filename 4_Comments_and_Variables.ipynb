{
 "cells": [
  {
   "cell_type": "markdown",
   "metadata": {},
   "source": [
    "# Comments and Variables"
   ]
  },
  {
   "cell_type": "markdown",
   "metadata": {},
   "source": [
    "## Comments"
   ]
  },
  {
   "cell_type": "markdown",
   "metadata": {},
   "source": [
    "Single-line comments start with \"#\":"
   ]
  },
  {
   "cell_type": "code",
   "execution_count": 2,
   "metadata": {},
   "outputs": [
    {
     "data": {
      "text/plain": [
       "5"
      ]
     },
     "execution_count": 2,
     "metadata": {},
     "output_type": "execute_result"
    }
   ],
   "source": [
    "# This is a comment, it won't be interpreted as code :O\n",
    "2 + 3\n",
    "# Another comment\n",
    "# Altogether start the K-Pop:\n",
    "# Sugar Free \\o/ Sugar Free \\o/ Sugar Free \\o/"
   ]
  },
  {
   "cell_type": "markdown",
   "metadata": {},
   "source": [
    "Multiple-line comments start with \"\"\" or ''':"
   ]
  },
  {
   "cell_type": "code",
   "execution_count": 3,
   "metadata": {},
   "outputs": [
    {
     "data": {
      "text/plain": [
       "'This is\\n\\na multiple-line\\ncomment\\n'"
      ]
     },
     "execution_count": 3,
     "metadata": {},
     "output_type": "execute_result"
    }
   ],
   "source": [
    "\"\"\"This is\n",
    "\n",
    "a multiple-line\n",
    "comment\n",
    "\"\"\""
   ]
  },
  {
   "cell_type": "markdown",
   "metadata": {},
   "source": [
    "(in fact, this is a str, but it does not affect any surrounding code :-)"
   ]
  },
  {
   "cell_type": "markdown",
   "metadata": {},
   "source": [
    "## Variables"
   ]
  },
  {
   "cell_type": "markdown",
   "metadata": {},
   "source": [
    "### Assignment"
   ]
  },
  {
   "cell_type": "markdown",
   "metadata": {},
   "source": [
    "Just as in any other sane programming language, you can assign data to a variable :D\n",
    "In Python, \"=\" is used for this assignment :-)\n",
    "\n",
    "Variables can have any name as long as it does not contain freaky symbols and not a number at the beginning of the name."
   ]
  },
  {
   "cell_type": "code",
   "execution_count": 5,
   "metadata": {},
   "outputs": [
    {
     "name": "stdout",
     "output_type": "stream",
     "text": [
      "5\n"
     ]
    }
   ],
   "source": [
    "# Let us assign the value \"5\" to the variable named \"number\"\n",
    "number = 5\n",
    "# Now we can work with the variable \"number\" :D\n",
    "print(number)"
   ]
  },
  {
   "cell_type": "code",
   "execution_count": 13,
   "metadata": {},
   "outputs": [
    {
     "name": "stdout",
     "output_type": "stream",
     "text": [
      "A2\n"
     ]
    }
   ],
   "source": [
    "# Let us assign the string \"A2\" to the variable \"x\"\n",
    "x = \"A\"+str(2)\n",
    "print(x)"
   ]
  },
  {
   "cell_type": "code",
   "execution_count": 14,
   "metadata": {},
   "outputs": [
    {
     "name": "stdout",
     "output_type": "stream",
     "text": [
      "ABC\n",
      "100\n"
     ]
    }
   ],
   "source": [
    "# Variables can also be reassigned, i.e. their type and value can completely changed\n",
    "# So here x is firset a str...\n",
    "x = \"ABC\"\n",
    "print(x)\n",
    "# ...and then an int :O\n",
    "x = 100\n",
    "print(x)"
   ]
  },
  {
   "cell_type": "markdown",
   "metadata": {},
   "source": [
    "### Changing variables with +=, -=, *=, ...:"
   ]
  },
  {
   "cell_type": "markdown",
   "metadata": {},
   "source": [
    "Variables can be used with the same operators as the underlying data type they currently represent if a \"=\" is set after the operator:"
   ]
  },
  {
   "cell_type": "code",
   "execution_count": 16,
   "metadata": {},
   "outputs": [
    {
     "data": {
      "text/plain": [
       "'ABCDEF'"
      ]
     },
     "execution_count": 16,
     "metadata": {},
     "output_type": "execute_result"
    }
   ],
   "source": [
    "# Let us append \"DEF\" to \"ABC\" in x\n",
    "x = \"ABC\"\n",
    "x += \"DEF\"  # Alternatively, one could write x = x + \"DEF\"\n",
    "x"
   ]
  },
  {
   "cell_type": "code",
   "execution_count": 17,
   "metadata": {},
   "outputs": [
    {
     "name": "stdout",
     "output_type": "stream",
     "text": [
      "1\n",
      "10\n"
     ]
    }
   ],
   "source": [
    "# Let's multiply the value of y with 10\n",
    "y = 1\n",
    "print(y)\n",
    "y *= 10  # Alternatively, one could write y = y * 10\n",
    "print(y)"
   ]
  },
  {
   "cell_type": "markdown",
   "metadata": {},
   "source": [
    "## Setting a variable using the base function input()\n",
    "Using input(), you can enter the value of a variable directly :-), the result is always a str:"
   ]
  },
  {
   "cell_type": "code",
   "execution_count": 21,
   "metadata": {},
   "outputs": [
    {
     "name": "stdin",
     "output_type": "stream",
     "text": [
      "Please enter the variable: Text\n"
     ]
    },
    {
     "name": "stdout",
     "output_type": "stream",
     "text": [
      "Text\n"
     ]
    }
   ],
   "source": [
    "# The str inside the \"()\" is the text that is shown for the input:\n",
    "variable = input(\"Please enter the variable:\")\n",
    "print(variable)"
   ]
  },
  {
   "cell_type": "markdown",
   "execution_count": null,
   "metadata": {},
   "outputs": [],
   "source": [
    "## Splitting long code lines with \"\\\"\n",
    "\n",
    "If you have a very long code line..."
   ]
  },
  {
   "cell_type": "code",
   "execution_count": 1,
   "metadata": {},
   "outputs": [],
   "source": [
    "very_long_and_unrecommended_python_variable_name = \"Very long string with some text written in the latin alphabet\""
   ]
  },
  {
   "cell_type": "markdown",
   "execution_count": null,
   "metadata": {},
   "outputs": [],
   "source": [
    "...you can split it with \"\\\" after a logical code part, such as after the \"=\":"
   ]
  },
  {
   "cell_type": "code",
   "execution_count": 2,
   "metadata": {},
   "outputs": [],
   "source": [
    "very_long_and_unrecommended_python_variable_name = \\\n",
    "    \"Very long string with some text written in the latin alphabet\""
   ]
  }
 ],
 "metadata": {
  "kernelspec": {
   "display_name": "Python 3",
   "language": "python",
   "name": "python3"
  },
  "language_info": {
   "codemirror_mode": {
    "name": "ipython",
    "version": 3
   },
   "file_extension": ".py",
   "mimetype": "text/x-python",
   "name": "python",
   "nbconvert_exporter": "python",
   "pygments_lexer": "ipython3",
   "version": "3.7.1"
  }
 },
 "nbformat": 4,
 "nbformat_minor": 2
}