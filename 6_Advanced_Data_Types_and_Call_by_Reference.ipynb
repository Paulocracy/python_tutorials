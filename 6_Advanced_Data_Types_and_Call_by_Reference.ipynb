{
 "cells": [
  {
   "cell_type": "markdown",
   "metadata": {},
   "source": [
    "# Python's Advanced Data Types and the Concept of \"Call by Reference\""
   ]
  },
  {
   "cell_type": "markdown",
   "metadata": {},
   "source": [
    "## list"
   ]
  },
  {
   "cell_type": "markdown",
   "metadata": {},
   "source": [
    "In Python, list is an ordered conglomerate of data. The data can be of different data types:"
   ]
  },
  {
   "cell_type": "code",
   "execution_count": 71,
   "metadata": {},
   "outputs": [
    {
     "data": {
      "text/plain": [
       "[1, 'a', None, True]"
      ]
     },
     "execution_count": 71,
     "metadata": {},
     "output_type": "execute_result"
    }
   ],
   "source": [
    "# Syntax: [element_1, element_2, ...]\n",
    "list_variable = [1, \"a\", None, True]\n",
    "list_variable"
   ]
  },
  {
   "cell_type": "markdown",
   "metadata": {},
   "source": [
    "### Indexing\n",
    "Important difference to MATLAB: The first element has the index zero!"
   ]
  },
  {
   "cell_type": "markdown",
   "metadata": {},
   "source": [
    "Using brackets after the list, one can access the nth element using a positive number or 0 inside the brackets:"
   ]
  },
  {
   "cell_type": "code",
   "execution_count": 11,
   "metadata": {},
   "outputs": [
    {
     "data": {
      "text/plain": [
       "1"
      ]
     },
     "execution_count": 11,
     "metadata": {},
     "output_type": "execute_result"
    }
   ],
   "source": [
    "# Let us get the first element :D\n",
    "list_variable = [1, \"a\", None, True]\n",
    "list_variable[0]  # Indexing starts with zero :O"
   ]
  },
  {
   "cell_type": "code",
   "execution_count": 13,
   "metadata": {},
   "outputs": [
    {
     "data": {
      "text/plain": [
       "'a'"
      ]
     },
     "execution_count": 13,
     "metadata": {},
     "output_type": "execute_result"
    }
   ],
   "source": [
    "# Let us get the second element :-)\n",
    "list_variable = [1, \"a\", None, True]\n",
    "list_variable[1]"
   ]
  },
  {
   "cell_type": "markdown",
   "metadata": {},
   "source": [
    "Using a negative number, the nth-last (where n is the absulute value of the negative number)  element of the list can be accessed:"
   ]
  },
  {
   "cell_type": "code",
   "execution_count": 16,
   "metadata": {},
   "outputs": [
    {
     "data": {
      "text/plain": [
       "True"
      ]
     },
     "execution_count": 16,
     "metadata": {},
     "output_type": "execute_result"
    }
   ],
   "source": [
    "# Let us get the last element\n",
    "list_variable = [1, \"a\", None, True]\n",
    "list_variable[-1]"
   ]
  },
  {
   "cell_type": "code",
   "execution_count": 18,
   "metadata": {},
   "outputs": [
    {
     "data": {
      "text/plain": [
       "'a'"
      ]
     },
     "execution_count": 18,
     "metadata": {},
     "output_type": "execute_result"
    }
   ],
   "source": [
    "# Let us get the 3rd-last element\n",
    "list_variable = [1, \"a\", None, True]\n",
    "list_variable[-3]"
   ]
  },
  {
   "cell_type": "markdown",
   "metadata": {},
   "source": [
    "### Slicing (yes the indexing is confusing 😐)"
   ]
  },
  {
   "cell_type": "markdown",
   "metadata": {},
   "source": [
    "With slicing, you can access a given part of the list. Just like indexing, it works by using brackets, this time with a \":\" (colon) inside and an indexing number before the \":\" (this is the first sliced element, included) and an indexing number afterwards (this is the last selected element, *not* included):"
   ]
  },
  {
   "cell_type": "code",
   "execution_count": 36,
   "metadata": {},
   "outputs": [
    {
     "data": {
      "text/plain": [
       "[2, 3]"
      ]
     },
     "execution_count": 36,
     "metadata": {},
     "output_type": "execute_result"
    }
   ],
   "source": [
    "# Let us get the 2nd and the 3rd element \\o/\n",
    "list_variable = [1, 2, 3, 4, 5, 6, 7, 8, 9, 10]\n",
    "list_variable[1:3]  # The first number is the first selected element (included), the 2nd number the last selected element (not included)"
   ]
  },
  {
   "cell_type": "code",
   "execution_count": 37,
   "metadata": {},
   "outputs": [
    {
     "data": {
      "text/plain": [
       "[2, 3, 4, 5, 6, 7, 8, 9]"
      ]
     },
     "execution_count": 37,
     "metadata": {},
     "output_type": "execute_result"
    }
   ],
   "source": [
    "# Let us get the 2nd up to the 2nd-last element\n",
    "list_variable = [1, 2, 3, 4, 5, 6, 7, 8, 9, 10]\n",
    "list_variable[1:-1]  # The first number is the first selected element (included), the 2nd number the last selected element (not included)"
   ]
  },
  {
   "cell_type": "markdown",
   "metadata": {},
   "source": [
    "By leaving out a number *before* the \":\", all elements up to the element specified in the number after the \":\" are selected:"
   ]
  },
  {
   "cell_type": "code",
   "execution_count": 29,
   "metadata": {},
   "outputs": [
    {
     "data": {
      "text/plain": [
       "[1, 2, 3, 4, 5, 6, 7, 8]"
      ]
     },
     "execution_count": 29,
     "metadata": {},
     "output_type": "execute_result"
    }
   ],
   "source": [
    "# Let us get the all elements up to the 3rd-last one\n",
    "list_variable = [1, 2, 3, 4, 5, 6, 7, 8, 9, 10]\n",
    "list_variable[:-2]  # No first number -> start from the first element; the 2nd number the last selected element (not included)"
   ]
  },
  {
   "cell_type": "markdown",
   "metadata": {},
   "source": [
    "By leaving out a number *after* the \":\", all elements from to the element specified in the number before the \":\" are selected:"
   ]
  },
  {
   "cell_type": "code",
   "execution_count": 33,
   "metadata": {},
   "outputs": [
    {
     "data": {
      "text/plain": [
       "[4, 5, 6, 7, 8, 9, 10]"
      ]
     },
     "execution_count": 33,
     "metadata": {},
     "output_type": "execute_result"
    }
   ],
   "source": [
    "# Let us get the all elements starting from the 4th one\n",
    "list_variable = [1, 2, 3, 4, 5, 6, 7, 8, 9, 10]\n",
    "list_variable[3:]  # The 1st number is the first selected element (included); No 2nd number -> end with the last element"
   ]
  },
  {
   "cell_type": "markdown",
   "metadata": {},
   "source": [
    "### The \"in\" logic operator"
   ]
  },
  {
   "cell_type": "markdown",
   "metadata": {},
   "source": [
    "With the \"in\" logic operator, one can check if a given element is included in a list:"
   ]
  },
  {
   "cell_type": "code",
   "execution_count": 38,
   "metadata": {},
   "outputs": [
    {
     "data": {
      "text/plain": [
       "True"
      ]
     },
     "execution_count": 38,
     "metadata": {},
     "output_type": "execute_result"
    }
   ],
   "source": [
    "# If the element is in the list, \"in\" returns True\n",
    "1 in [1, 2, 3]"
   ]
  },
  {
   "cell_type": "code",
   "execution_count": 39,
   "metadata": {},
   "outputs": [
    {
     "data": {
      "text/plain": [
       "False"
      ]
     },
     "execution_count": 39,
     "metadata": {},
     "output_type": "execute_result"
    }
   ],
   "source": [
    "# If the element is *not* in the list, \"in\" returns False\n",
    "0 in [1, 2, 3]"
   ]
  },
  {
   "cell_type": "markdown",
   "metadata": {},
   "source": [
    "### Changing elements in a list"
   ]
  },
  {
   "cell_type": "markdown",
   "metadata": {},
   "source": [
    "Changing lists simply works by selecting an element (or a slice) using brackets and redefining its value:"
   ]
  },
  {
   "cell_type": "code",
   "execution_count": 45,
   "metadata": {},
   "outputs": [
    {
     "data": {
      "text/plain": [
       "['A', 'B', 'C', 'D']"
      ]
     },
     "execution_count": 45,
     "metadata": {},
     "output_type": "execute_result"
    }
   ],
   "source": [
    "# Let us change the 2nd element of the list :D\n",
    "list_variable = [\"A\", \"X\", \"C\", \"D\"]\n",
    "list_variable[1] = \"B\"\n",
    "list_variable"
   ]
  },
  {
   "cell_type": "markdown",
   "metadata": {},
   "source": [
    "### Removing or appending elements from a list"
   ]
  },
  {
   "cell_type": "markdown",
   "metadata": {},
   "source": [
    "Using the list-internal functions .append() and the Python base function del(), one can easily add or delete elements of a list:"
   ]
  },
  {
   "cell_type": "code",
   "execution_count": 46,
   "metadata": {},
   "outputs": [
    {
     "data": {
      "text/plain": [
       "[1, 2, 3, 4]"
      ]
     },
     "execution_count": 46,
     "metadata": {},
     "output_type": "execute_result"
    }
   ],
   "source": [
    "# Let us append something to the list :-)\n",
    "list_variable = [1, 2, 3]\n",
    "list_variable.append(4)\n",
    "list_variable"
   ]
  },
  {
   "cell_type": "code",
   "execution_count": 47,
   "metadata": {},
   "outputs": [
    {
     "data": {
      "text/plain": [
       "[1, 3, 4, 5]"
      ]
     },
     "execution_count": 47,
     "metadata": {},
     "output_type": "execute_result"
    }
   ],
   "source": [
    "# Let us remove the 2nd element of the list :O\n",
    "list_variable = [1, 2, 3, 4, 5]\n",
    "del(list_variable[1])\n",
    "list_variable"
   ]
  },
  {
   "cell_type": "markdown",
   "metadata": {},
   "source": [
    "## tuple"
   ]
  },
  {
   "cell_type": "markdown",
   "metadata": {},
   "source": [
    "Tuples are like lists, with two differences:\n",
    "1. They are defined using \"(\" instead of \"[\"\n",
    "2. They are immutable, i.e., they cannot be changed"
   ]
  },
  {
   "cell_type": "code",
   "execution_count": 7,
   "metadata": {},
   "outputs": [
    {
     "data": {
      "text/plain": [
       "(1, 'a', None, True)"
      ]
     },
     "execution_count": 7,
     "metadata": {},
     "output_type": "execute_result"
    }
   ],
   "source": [
    "tuple_variable = (1, \"a\", None, True)\n",
    "tuple_variable"
   ]
  },
  {
   "cell_type": "code",
   "execution_count": 40,
   "metadata": {},
   "outputs": [
    {
     "ename": "TypeError",
     "evalue": "'tuple' object does not support item assignment",
     "output_type": "error",
     "traceback": [
      "\u001b[0;31m---------------------------------------------------------------------------\u001b[0m",
      "\u001b[0;31mTypeError\u001b[0m                                 Traceback (most recent call last)",
      "\u001b[0;32m<ipython-input-40-3bc0353d486a>\u001b[0m in \u001b[0;36m<module>\u001b[0;34m\u001b[0m\n\u001b[1;32m      1\u001b[0m \u001b[0mtuple_variable\u001b[0m \u001b[0;34m=\u001b[0m \u001b[0;34m(\u001b[0m\u001b[0;36m1\u001b[0m\u001b[0;34m,\u001b[0m \u001b[0;34m\"a\"\u001b[0m\u001b[0;34m,\u001b[0m \u001b[0;32mNone\u001b[0m\u001b[0;34m,\u001b[0m \u001b[0;32mTrue\u001b[0m\u001b[0;34m)\u001b[0m\u001b[0;34m\u001b[0m\u001b[0;34m\u001b[0m\u001b[0m\n\u001b[0;32m----> 2\u001b[0;31m \u001b[0mtuple_variable\u001b[0m\u001b[0;34m[\u001b[0m\u001b[0;36m1\u001b[0m\u001b[0;34m]\u001b[0m \u001b[0;34m=\u001b[0m \u001b[0;36m2\u001b[0m\u001b[0;34m\u001b[0m\u001b[0;34m\u001b[0m\u001b[0m\n\u001b[0m",
      "\u001b[0;31mTypeError\u001b[0m: 'tuple' object does not support item assignment"
     ]
    }
   ],
   "source": [
    "# Trying to change the tuple won't work D:\n",
    "tuple_variable = (1, \"a\", None, True)\n",
    "tuple_variable[1] = 2"
   ]
  },
  {
   "cell_type": "markdown",
   "metadata": {},
   "source": [
    "## dict (dictionary/hash map)"
   ]
  },
  {
   "cell_type": "markdown",
   "metadata": {},
   "source": [
    "A dictionary associates a value (the key) with another value (confusingly called the \"value\" again xD):"
   ]
  },
  {
   "cell_type": "code",
   "execution_count": 51,
   "metadata": {},
   "outputs": [
    {
     "name": "stdout",
     "output_type": "stream",
     "text": [
      "Population of Athens:\n",
      "5000000.0\n",
      "Population of Paris:\n",
      "12000000.0\n"
     ]
    }
   ],
   "source": [
    "# Let us define a dictionary where we associate cities with their population\n",
    "# Syntax:\n",
    "# {\n",
    "#   key: value,\n",
    "#   ...\n",
    "#   key: value,\n",
    "# }\n",
    "# So in our case, the city names are the *key*, the population numbers the *value*\n",
    "city_to_population_dictionary = {\n",
    "    \"Berlin\": 3e6,\n",
    "    \"Athens\": 5e6,\n",
    "    \"Paris\": 12e6, # A comma at the end is ok in newer Python versions :-)\n",
    "}\n",
    "\n",
    "# Let us print the population of... Athens\n",
    "print(\"Population of Athens:\")\n",
    "print(city_to_population_dictionary[\"Athens\"])\n",
    "\n",
    "# And now the population of... Paris\n",
    "print(\"Population of Paris:\")\n",
    "print(city_to_population_dictionary[\"Paris\"])"
   ]
  },
  {
   "cell_type": "markdown",
   "metadata": {},
   "source": [
    "values can be of any type, however, keys can only be of any type that is *immutable* (i.e., values that are not made to be changed):"
   ]
  },
  {
   "cell_type": "code",
   "execution_count": 58,
   "metadata": {},
   "outputs": [
    {
     "name": "stdout",
     "output_type": "stream",
     "text": [
      "A\n",
      "True\n",
      "[2, 3, 4]\n",
      "2\n"
     ]
    }
   ],
   "source": [
    "# A small collection of hashable types, including tuples :D\n",
    "hashable_keys_dict = {\n",
    "    \"A\": \"A\",\n",
    "    (\"A\",\"B\"): True,\n",
    "    None: [2,3,4],\n",
    "    1: 2,\n",
    "}\n",
    "\n",
    "print(hashable_keys_dict[\"A\"])\n",
    "print(hashable_keys_dict[(\"A\",\"B\")])\n",
    "print(hashable_keys_dict[None])\n",
    "print(hashable_keys_dict[1])"
   ]
  },
  {
   "cell_type": "markdown",
   "metadata": {},
   "source": [
    "Lists are *not* immutable, because their value can be changed. Tehrefore, they cannot be keys:"
   ]
  },
  {
   "cell_type": "code",
   "execution_count": 59,
   "metadata": {},
   "outputs": [
    {
     "ename": "TypeError",
     "evalue": "unhashable type: 'list'",
     "output_type": "error",
     "traceback": [
      "\u001b[0;31m---------------------------------------------------------------------------\u001b[0m",
      "\u001b[0;31mTypeError\u001b[0m                                 Traceback (most recent call last)",
      "\u001b[0;32m<ipython-input-59-a6088cde8be8>\u001b[0m in \u001b[0;36m<module>\u001b[0;34m\u001b[0m\n\u001b[1;32m      1\u001b[0m list_as_key_test_dictionary = {\n\u001b[0;32m----> 2\u001b[0;31m     \u001b[0;34m[\u001b[0m\u001b[0;36m1\u001b[0m\u001b[0;34m,\u001b[0m\u001b[0;36m2\u001b[0m\u001b[0;34m,\u001b[0m\u001b[0;36m3\u001b[0m\u001b[0;34m]\u001b[0m\u001b[0;34m:\u001b[0m \u001b[0;36m1\u001b[0m\u001b[0;34m\u001b[0m\u001b[0;34m\u001b[0m\u001b[0m\n\u001b[0m\u001b[1;32m      3\u001b[0m }\n",
      "\u001b[0;31mTypeError\u001b[0m: unhashable type: 'list'"
     ]
    }
   ],
   "source": [
    "list_as_key_test_dictionary = {\n",
    "    [1,2,3]: 1\n",
    "}"
   ]
  },
  {
   "cell_type": "markdown",
   "metadata": {},
   "source": [
    "### Get keys or values of a dictionary\n",
    "...using their built-in functon .keys() or .values():"
   ]
  },
  {
   "cell_type": "code",
   "execution_count": 70,
   "metadata": {},
   "outputs": [
    {
     "name": "stdout",
     "output_type": "stream",
     "text": [
      "Keys:\n",
      "['Berlin', 'Athens', 'Paris']\n",
      "Values:\n",
      "[3000000.0, 5000000.0, 12000000.0]\n"
     ]
    }
   ],
   "source": [
    "city_to_population_dictionary = {\n",
    "    \"Berlin\": 3e6,\n",
    "    \"Athens\": 5e6,\n",
    "    \"Paris\": 12e6,\n",
    "}\n",
    "print(\"Keys:\")\n",
    "keys_as_list = list(city_to_population_dictionary.keys())\n",
    "print(keys_as_list)  # keys are ordered :D (or D: if you are a computer scientist)\n",
    "print(\"Values:\")\n",
    "values_as_list = list(city_to_population_dictionary.values())\n",
    "print(values_as_list)"
   ]
  },
  {
   "cell_type": "markdown",
   "metadata": {},
   "source": [
    "Attention: In older Python versions, dict keys are not ordered! You have to use collections.orderedDict instead (more on modules on the next course day :-)"
   ]
  },
  {
   "cell_type": "markdown",
   "metadata": {},
   "source": [
    "## The Concept of \"Call by Reference\""
   ]
  },
  {
   "cell_type": "markdown",
   "metadata": {},
   "source": [
    "Ok this is actually one the most unintuitive concept of Python D:, even though there are good reasons for it :-)"
   ]
  },
  {
   "cell_type": "markdown",
   "metadata": {},
   "source": [
    "If we assign a variable A to another variable B which is a...\n",
    "1. list\n",
    "2. dict\n",
    "3. or any other \"complex\" type of variable...\n",
    "both of these variables are linked to the *same* data, i.e. if I change variable B, the data to which variable A is linked will be changed too :O"
   ]
  },
  {
   "cell_type": "code",
   "execution_count": 64,
   "metadata": {},
   "outputs": [
    {
     "name": "stdout",
     "output_type": "stream",
     "text": [
      "[0, 2, 3]\n",
      "[0, 2, 3]\n"
     ]
    }
   ],
   "source": [
    "# Let us see this in practice :-)\n",
    "# So we have a variable A (in this case a list)...\n",
    "list_a = [1, 2, 3]\n",
    "# ...and intend to \"copy\" A as variable B\n",
    "list_b = list_a\n",
    "# Now, if we change B...\n",
    "list_b[0] = 0\n",
    "# ...A is changed, too :O\n",
    "print(list_b)\n",
    "print(list_a)"
   ]
  },
  {
   "cell_type": "markdown",
   "metadata": {},
   "source": [
    "In order to prevent this in an orderly way, we have to use the \"copy\" module and its \"deepcopy\" function. Again, more on modules will be said on the next course day :-)"
   ]
  }
 ],
 "metadata": {
  "kernelspec": {
   "display_name": "Python 3",
   "language": "python",
   "name": "python3"
  },
  "language_info": {
   "codemirror_mode": {
    "name": "ipython",
    "version": 3
   },
   "file_extension": ".py",
   "mimetype": "text/x-python",
   "name": "python",
   "nbconvert_exporter": "python",
   "pygments_lexer": "ipython3",
   "version": "3.7.1"
  }
 },
 "nbformat": 4,
 "nbformat_minor": 2
}
