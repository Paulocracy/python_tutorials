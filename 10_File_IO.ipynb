{
 "cells": [
  {
   "cell_type": "markdown",
   "metadata": {},
   "source": [
    "# Basic File Input/Output"
   ]
  },
  {
   "cell_type": "markdown",
   "metadata": {},
   "source": [
    "## Reading a text file"
   ]
  },
  {
   "cell_type": "markdown",
   "metadata": {},
   "source": [
    "It is common practice to use the following syntax using the \"with\" statement (which controls the existence of the given object) in order to read out a file:"
   ]
  },
  {
   "cell_type": "code",
   "execution_count": 7,
   "metadata": {},
   "outputs": [
    {
     "name": "stdout",
     "output_type": "stream",
     "text": [
      "BTS \\o/\n",
      "T-ARA \\o/\n",
      "\n"
     ]
    }
   ],
   "source": [
    "# In our case, we have a file which\n",
    "# reads \"BTS \\o/\" and \"T-ARA \\o/\"\n",
    "# It is \"./data/textfile.txt\"\n",
    "\n",
    "# with \"r\", we show that we want to read the file :D\n",
    "with open(\"./data/textfile.txt\", \"r\") as f:  # Now, the file handlings works with f\n",
    "    text_as_string = f.read()\n",
    "\n",
    "print(text_as_string)"
   ]
  },
  {
   "cell_type": "markdown",
   "metadata": {},
   "source": [
    "Note that the string still contains the line breaks, \"\\n\" in code. In order to remove them, you can .replace() the text:"
   ]
  },
  {
   "cell_type": "code",
   "execution_count": 8,
   "metadata": {},
   "outputs": [
    {
     "data": {
      "text/plain": [
       "'BTS \\\\o/T-ARA \\\\o/'"
      ]
     },
     "execution_count": 8,
     "metadata": {},
     "output_type": "execute_result"
    }
   ],
   "source": [
    "text_as_string = text_as_string.replace(\"\\n\", \"\")  # Replace it with nothing :D\n",
    "text_as_string"
   ]
  },
  {
   "cell_type": "markdown",
   "metadata": {},
   "source": [
    "Using readlines() instead of read(), we get a list of strings:"
   ]
  },
  {
   "cell_type": "code",
   "execution_count": 9,
   "metadata": {},
   "outputs": [
    {
     "name": "stdout",
     "output_type": "stream",
     "text": [
      "['BTS \\\\o/\\n', 'T-ARA \\\\o/\\n']\n"
     ]
    }
   ],
   "source": [
    "with open(\"./data/textfile.txt\", \"r\") as f:  # Now, the file handlings works with f\n",
    "    text_as_string_list = f.readlines()\n",
    "\n",
    "print(text_as_string_list)"
   ]
  },
  {
   "cell_type": "markdown",
   "metadata": {},
   "source": [
    "We would remove the line breaks as follows:"
   ]
  },
  {
   "cell_type": "code",
   "execution_count": 10,
   "metadata": {},
   "outputs": [],
   "source": [
    "text_as_string_list = [x.replace(\"\\n\", \"\") for x in text_as_string_list]"
   ]
  },
  {
   "cell_type": "markdown",
   "metadata": {},
   "source": [
    "## Overwriting a text file"
   ]
  },
  {
   "cell_type": "markdown",
   "metadata": {},
   "source": [
    "In order to (over)write a text file (the file does not have to exist), we change \"r\" to \"w\" and use write(string) (or writelines() for a list of str):"
   ]
  },
  {
   "cell_type": "code",
   "execution_count": 11,
   "metadata": {},
   "outputs": [],
   "source": [
    "with open(\"./data/textfile2.txt\", \"w\") as f:\n",
    "    f.write(\"ABCD\")"
   ]
  },
  {
   "cell_type": "code",
   "execution_count": 12,
   "metadata": {},
   "outputs": [],
   "source": [
    "with open(\"./data/textfile3.txt\", \"w\") as f:\n",
    "    f.writelines([\"ABCD\\n\", \"EFGH\"])  # Note the \"\\n\""
   ]
  },
  {
   "cell_type": "markdown",
   "metadata": {},
   "source": [
    "## Appending text to a text file"
   ]
  },
  {
   "cell_type": "markdown",
   "metadata": {},
   "source": [
    "In order to append text to a text file (the file has to exist), we change \"w\" to \"a\" and use write(string) (or writelines() for a list of str) again:"
   ]
  },
  {
   "cell_type": "code",
   "execution_count": 14,
   "metadata": {},
   "outputs": [],
   "source": [
    "with open(\"./data/textfile2.txt\", \"a\") as f:\n",
    "    f.write(\"EFGH\")"
   ]
  }
 ],
 "metadata": {
  "kernelspec": {
   "display_name": "Python 3",
   "language": "python",
   "name": "python3"
  },
  "language_info": {
   "codemirror_mode": {
    "name": "ipython",
    "version": 3
   },
   "file_extension": ".py",
   "mimetype": "text/x-python",
   "name": "python",
   "nbconvert_exporter": "python",
   "pygments_lexer": "ipython3",
   "version": "3.7.1"
  }
 },
 "nbformat": 4,
 "nbformat_minor": 2
}
